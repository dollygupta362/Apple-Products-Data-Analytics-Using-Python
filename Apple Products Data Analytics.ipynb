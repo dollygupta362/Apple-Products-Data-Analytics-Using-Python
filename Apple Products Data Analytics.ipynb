{
 "cells": [
  {
   "cell_type": "code",
   "execution_count": 1,
   "id": "0c761f21-8e2a-434f-a2a9-f8415fd16d4b",
   "metadata": {},
   "outputs": [],
   "source": [
    "import pandas as pd\n",
    "import numpy as np\n",
    "import plotly.express as px\n",
    "import plotly.graph_objects as go"
   ]
  },
  {
   "cell_type": "code",
   "execution_count": 4,
   "id": "c4944152-5e71-4037-9d8e-79d5154b8303",
   "metadata": {},
   "outputs": [],
   "source": [
    "data = pd.read_csv(\"apple_products.csv\")"
   ]
  },
  {
   "cell_type": "code",
   "execution_count": 5,
   "id": "b3c8dbd4-4fc4-4411-b0c6-f81d853bb2ee",
   "metadata": {},
   "outputs": [
    {
     "data": {
      "text/plain": [
       "(62, 11)"
      ]
     },
     "execution_count": 5,
     "metadata": {},
     "output_type": "execute_result"
    }
   ],
   "source": [
    "data.shape"
   ]
  },
  {
   "cell_type": "code",
   "execution_count": 6,
   "id": "31a23b50-243a-4652-ac21-25d9a6d3cb11",
   "metadata": {},
   "outputs": [
    {
     "name": "stdout",
     "output_type": "stream",
     "text": [
      "<class 'pandas.core.frame.DataFrame'>\n",
      "RangeIndex: 62 entries, 0 to 61\n",
      "Data columns (total 11 columns):\n",
      " #   Column               Non-Null Count  Dtype  \n",
      "---  ------               --------------  -----  \n",
      " 0   Product Name         62 non-null     object \n",
      " 1   Product URL          62 non-null     object \n",
      " 2   Brand                62 non-null     object \n",
      " 3   Sale Price           62 non-null     int64  \n",
      " 4   Mrp                  62 non-null     int64  \n",
      " 5   Discount Percentage  62 non-null     int64  \n",
      " 6   Number Of Ratings    62 non-null     int64  \n",
      " 7   Number Of Reviews    62 non-null     int64  \n",
      " 8   Upc                  62 non-null     object \n",
      " 9   Star Rating          62 non-null     float64\n",
      " 10  Ram                  62 non-null     object \n",
      "dtypes: float64(1), int64(5), object(5)\n",
      "memory usage: 5.5+ KB\n"
     ]
    }
   ],
   "source": [
    "data.info()"
   ]
  },
  {
   "cell_type": "code",
   "execution_count": 7,
   "id": "2b52df22-7a5c-4fe1-92d6-a0ffe7adeda2",
   "metadata": {},
   "outputs": [
    {
     "data": {
      "text/html": [
       "<div>\n",
       "<style scoped>\n",
       "    .dataframe tbody tr th:only-of-type {\n",
       "        vertical-align: middle;\n",
       "    }\n",
       "\n",
       "    .dataframe tbody tr th {\n",
       "        vertical-align: top;\n",
       "    }\n",
       "\n",
       "    .dataframe thead th {\n",
       "        text-align: right;\n",
       "    }\n",
       "</style>\n",
       "<table border=\"1\" class=\"dataframe\">\n",
       "  <thead>\n",
       "    <tr style=\"text-align: right;\">\n",
       "      <th></th>\n",
       "      <th>Product Name</th>\n",
       "      <th>Product URL</th>\n",
       "      <th>Brand</th>\n",
       "      <th>Sale Price</th>\n",
       "      <th>Mrp</th>\n",
       "      <th>Discount Percentage</th>\n",
       "      <th>Number Of Ratings</th>\n",
       "      <th>Number Of Reviews</th>\n",
       "      <th>Upc</th>\n",
       "      <th>Star Rating</th>\n",
       "      <th>Ram</th>\n",
       "    </tr>\n",
       "  </thead>\n",
       "  <tbody>\n",
       "    <tr>\n",
       "      <th>0</th>\n",
       "      <td>APPLE iPhone 8 Plus (Gold, 64 GB)</td>\n",
       "      <td>https://www.flipkart.com/apple-iphone-8-plus-g...</td>\n",
       "      <td>Apple</td>\n",
       "      <td>49900</td>\n",
       "      <td>49900</td>\n",
       "      <td>0</td>\n",
       "      <td>3431</td>\n",
       "      <td>356</td>\n",
       "      <td>MOBEXRGV7EHHTGUH</td>\n",
       "      <td>4.6</td>\n",
       "      <td>2 GB</td>\n",
       "    </tr>\n",
       "    <tr>\n",
       "      <th>1</th>\n",
       "      <td>APPLE iPhone 8 Plus (Space Grey, 256 GB)</td>\n",
       "      <td>https://www.flipkart.com/apple-iphone-8-plus-s...</td>\n",
       "      <td>Apple</td>\n",
       "      <td>84900</td>\n",
       "      <td>84900</td>\n",
       "      <td>0</td>\n",
       "      <td>3431</td>\n",
       "      <td>356</td>\n",
       "      <td>MOBEXRGVAC6TJT4F</td>\n",
       "      <td>4.6</td>\n",
       "      <td>2 GB</td>\n",
       "    </tr>\n",
       "    <tr>\n",
       "      <th>2</th>\n",
       "      <td>APPLE iPhone 8 Plus (Silver, 256 GB)</td>\n",
       "      <td>https://www.flipkart.com/apple-iphone-8-plus-s...</td>\n",
       "      <td>Apple</td>\n",
       "      <td>84900</td>\n",
       "      <td>84900</td>\n",
       "      <td>0</td>\n",
       "      <td>3431</td>\n",
       "      <td>356</td>\n",
       "      <td>MOBEXRGVGETABXWZ</td>\n",
       "      <td>4.6</td>\n",
       "      <td>2 GB</td>\n",
       "    </tr>\n",
       "    <tr>\n",
       "      <th>3</th>\n",
       "      <td>APPLE iPhone 8 (Silver, 256 GB)</td>\n",
       "      <td>https://www.flipkart.com/apple-iphone-8-silver...</td>\n",
       "      <td>Apple</td>\n",
       "      <td>77000</td>\n",
       "      <td>77000</td>\n",
       "      <td>0</td>\n",
       "      <td>11202</td>\n",
       "      <td>794</td>\n",
       "      <td>MOBEXRGVMZWUHCBA</td>\n",
       "      <td>4.5</td>\n",
       "      <td>2 GB</td>\n",
       "    </tr>\n",
       "    <tr>\n",
       "      <th>4</th>\n",
       "      <td>APPLE iPhone 8 (Gold, 256 GB)</td>\n",
       "      <td>https://www.flipkart.com/apple-iphone-8-gold-2...</td>\n",
       "      <td>Apple</td>\n",
       "      <td>77000</td>\n",
       "      <td>77000</td>\n",
       "      <td>0</td>\n",
       "      <td>11202</td>\n",
       "      <td>794</td>\n",
       "      <td>MOBEXRGVPK7PFEJZ</td>\n",
       "      <td>4.5</td>\n",
       "      <td>2 GB</td>\n",
       "    </tr>\n",
       "    <tr>\n",
       "      <th>...</th>\n",
       "      <td>...</td>\n",
       "      <td>...</td>\n",
       "      <td>...</td>\n",
       "      <td>...</td>\n",
       "      <td>...</td>\n",
       "      <td>...</td>\n",
       "      <td>...</td>\n",
       "      <td>...</td>\n",
       "      <td>...</td>\n",
       "      <td>...</td>\n",
       "      <td>...</td>\n",
       "    </tr>\n",
       "    <tr>\n",
       "      <th>57</th>\n",
       "      <td>APPLE iPhone SE (Black, 64 GB)</td>\n",
       "      <td>https://www.flipkart.com/apple-iphone-se-black...</td>\n",
       "      <td>Apple</td>\n",
       "      <td>29999</td>\n",
       "      <td>39900</td>\n",
       "      <td>24</td>\n",
       "      <td>95909</td>\n",
       "      <td>8161</td>\n",
       "      <td>MOBFWQ6BR3MK7AUG</td>\n",
       "      <td>4.5</td>\n",
       "      <td>4 GB</td>\n",
       "    </tr>\n",
       "    <tr>\n",
       "      <th>58</th>\n",
       "      <td>APPLE iPhone 11 (Purple, 64 GB)</td>\n",
       "      <td>https://www.flipkart.com/apple-iphone-11-purpl...</td>\n",
       "      <td>Apple</td>\n",
       "      <td>46999</td>\n",
       "      <td>54900</td>\n",
       "      <td>14</td>\n",
       "      <td>43470</td>\n",
       "      <td>3331</td>\n",
       "      <td>MOBFWQ6BTFFJKGKE</td>\n",
       "      <td>4.6</td>\n",
       "      <td>4 GB</td>\n",
       "    </tr>\n",
       "    <tr>\n",
       "      <th>59</th>\n",
       "      <td>APPLE iPhone 11 (White, 64 GB)</td>\n",
       "      <td>https://www.flipkart.com/apple-iphone-11-white...</td>\n",
       "      <td>Apple</td>\n",
       "      <td>46999</td>\n",
       "      <td>54900</td>\n",
       "      <td>14</td>\n",
       "      <td>43470</td>\n",
       "      <td>3331</td>\n",
       "      <td>MOBFWQ6BVWVEH3XE</td>\n",
       "      <td>4.6</td>\n",
       "      <td>4 GB</td>\n",
       "    </tr>\n",
       "    <tr>\n",
       "      <th>60</th>\n",
       "      <td>APPLE iPhone 11 (Black, 64 GB)</td>\n",
       "      <td>https://www.flipkart.com/apple-iphone-11-black...</td>\n",
       "      <td>Apple</td>\n",
       "      <td>46999</td>\n",
       "      <td>54900</td>\n",
       "      <td>14</td>\n",
       "      <td>43470</td>\n",
       "      <td>3331</td>\n",
       "      <td>MOBFWQ6BXGJCEYNY</td>\n",
       "      <td>4.6</td>\n",
       "      <td>4 GB</td>\n",
       "    </tr>\n",
       "    <tr>\n",
       "      <th>61</th>\n",
       "      <td>APPLE iPhone 11 (Red, 64 GB)</td>\n",
       "      <td>https://www.flipkart.com/apple-iphone-11-red-6...</td>\n",
       "      <td>Apple</td>\n",
       "      <td>46999</td>\n",
       "      <td>54900</td>\n",
       "      <td>14</td>\n",
       "      <td>43470</td>\n",
       "      <td>3331</td>\n",
       "      <td>MOBFWQ6BYYV3FCU7</td>\n",
       "      <td>4.6</td>\n",
       "      <td>4 GB</td>\n",
       "    </tr>\n",
       "  </tbody>\n",
       "</table>\n",
       "<p>62 rows × 11 columns</p>\n",
       "</div>"
      ],
      "text/plain": [
       "                                Product Name  \\\n",
       "0          APPLE iPhone 8 Plus (Gold, 64 GB)   \n",
       "1   APPLE iPhone 8 Plus (Space Grey, 256 GB)   \n",
       "2       APPLE iPhone 8 Plus (Silver, 256 GB)   \n",
       "3            APPLE iPhone 8 (Silver, 256 GB)   \n",
       "4              APPLE iPhone 8 (Gold, 256 GB)   \n",
       "..                                       ...   \n",
       "57            APPLE iPhone SE (Black, 64 GB)   \n",
       "58           APPLE iPhone 11 (Purple, 64 GB)   \n",
       "59            APPLE iPhone 11 (White, 64 GB)   \n",
       "60            APPLE iPhone 11 (Black, 64 GB)   \n",
       "61              APPLE iPhone 11 (Red, 64 GB)   \n",
       "\n",
       "                                          Product URL  Brand  Sale Price  \\\n",
       "0   https://www.flipkart.com/apple-iphone-8-plus-g...  Apple       49900   \n",
       "1   https://www.flipkart.com/apple-iphone-8-plus-s...  Apple       84900   \n",
       "2   https://www.flipkart.com/apple-iphone-8-plus-s...  Apple       84900   \n",
       "3   https://www.flipkart.com/apple-iphone-8-silver...  Apple       77000   \n",
       "4   https://www.flipkart.com/apple-iphone-8-gold-2...  Apple       77000   \n",
       "..                                                ...    ...         ...   \n",
       "57  https://www.flipkart.com/apple-iphone-se-black...  Apple       29999   \n",
       "58  https://www.flipkart.com/apple-iphone-11-purpl...  Apple       46999   \n",
       "59  https://www.flipkart.com/apple-iphone-11-white...  Apple       46999   \n",
       "60  https://www.flipkart.com/apple-iphone-11-black...  Apple       46999   \n",
       "61  https://www.flipkart.com/apple-iphone-11-red-6...  Apple       46999   \n",
       "\n",
       "      Mrp  Discount Percentage  Number Of Ratings  Number Of Reviews  \\\n",
       "0   49900                    0               3431                356   \n",
       "1   84900                    0               3431                356   \n",
       "2   84900                    0               3431                356   \n",
       "3   77000                    0              11202                794   \n",
       "4   77000                    0              11202                794   \n",
       "..    ...                  ...                ...                ...   \n",
       "57  39900                   24              95909               8161   \n",
       "58  54900                   14              43470               3331   \n",
       "59  54900                   14              43470               3331   \n",
       "60  54900                   14              43470               3331   \n",
       "61  54900                   14              43470               3331   \n",
       "\n",
       "                 Upc  Star Rating   Ram  \n",
       "0   MOBEXRGV7EHHTGUH          4.6  2 GB  \n",
       "1   MOBEXRGVAC6TJT4F          4.6  2 GB  \n",
       "2   MOBEXRGVGETABXWZ          4.6  2 GB  \n",
       "3   MOBEXRGVMZWUHCBA          4.5  2 GB  \n",
       "4   MOBEXRGVPK7PFEJZ          4.5  2 GB  \n",
       "..               ...          ...   ...  \n",
       "57  MOBFWQ6BR3MK7AUG          4.5  4 GB  \n",
       "58  MOBFWQ6BTFFJKGKE          4.6  4 GB  \n",
       "59  MOBFWQ6BVWVEH3XE          4.6  4 GB  \n",
       "60  MOBFWQ6BXGJCEYNY          4.6  4 GB  \n",
       "61  MOBFWQ6BYYV3FCU7          4.6  4 GB  \n",
       "\n",
       "[62 rows x 11 columns]"
      ]
     },
     "execution_count": 7,
     "metadata": {},
     "output_type": "execute_result"
    }
   ],
   "source": [
    "data"
   ]
  },
  {
   "cell_type": "code",
   "execution_count": 8,
   "id": "bb4f708b-3cad-4490-83c2-b5ccb68e2b48",
   "metadata": {},
   "outputs": [
    {
     "name": "stdout",
     "output_type": "stream",
     "text": [
      "Product Name           0\n",
      "Product URL            0\n",
      "Brand                  0\n",
      "Sale Price             0\n",
      "Mrp                    0\n",
      "Discount Percentage    0\n",
      "Number Of Ratings      0\n",
      "Number Of Reviews      0\n",
      "Upc                    0\n",
      "Star Rating            0\n",
      "Ram                    0\n",
      "dtype: int64\n"
     ]
    }
   ],
   "source": [
    "print(data.isnull().sum())"
   ]
  },
  {
   "cell_type": "code",
   "execution_count": 9,
   "id": "e7bef140-64da-47cf-886a-a22300505ff9",
   "metadata": {},
   "outputs": [
    {
     "name": "stdout",
     "output_type": "stream",
     "text": [
      "          Sale Price            Mrp  Discount Percentage  Number Of Ratings  \\\n",
      "count      62.000000      62.000000            62.000000          62.000000   \n",
      "mean    80073.887097   88058.064516             9.951613       22420.403226   \n",
      "std     34310.446132   34728.825597             7.608079       33768.589550   \n",
      "min     29999.000000   39900.000000             0.000000         542.000000   \n",
      "25%     49900.000000   54900.000000             6.000000         740.000000   \n",
      "50%     75900.000000   79900.000000            10.000000        2101.000000   \n",
      "75%    117100.000000  120950.000000            14.000000       43470.000000   \n",
      "max    140900.000000  149900.000000            29.000000       95909.000000   \n",
      "\n",
      "       Number Of Reviews  Star Rating  \n",
      "count          62.000000    62.000000  \n",
      "mean         1861.677419     4.575806  \n",
      "std          2855.883830     0.059190  \n",
      "min            42.000000     4.500000  \n",
      "25%            64.000000     4.500000  \n",
      "50%           180.000000     4.600000  \n",
      "75%          3331.000000     4.600000  \n",
      "max          8161.000000     4.700000  \n"
     ]
    }
   ],
   "source": [
    "print(data.describe())"
   ]
  },
  {
   "cell_type": "markdown",
   "id": "358c0536-a176-45a9-8359-581b49497919",
   "metadata": {},
   "source": [
    "***I phone Sales in India***"
   ]
  },
  {
   "cell_type": "code",
   "execution_count": 10,
   "id": "57768bef-f659-4b66-9333-946c35c3cb68",
   "metadata": {},
   "outputs": [
    {
     "data": {
      "text/plain": [
       "Index(['Product Name', 'Product URL', 'Brand', 'Sale Price', 'Mrp',\n",
       "       'Discount Percentage', 'Number Of Ratings', 'Number Of Reviews', 'Upc',\n",
       "       'Star Rating', 'Ram'],\n",
       "      dtype='object')"
      ]
     },
     "execution_count": 10,
     "metadata": {},
     "output_type": "execute_result"
    }
   ],
   "source": [
    "data.columns"
   ]
  },
  {
   "cell_type": "code",
   "execution_count": 13,
   "id": "345f2d5c-cddd-41be-a401-518e865bcca9",
   "metadata": {},
   "outputs": [
    {
     "name": "stdout",
     "output_type": "stream",
     "text": [
      "15                APPLE iPhone 11 Pro Max (Gold, 64 GB)\n",
      "20      APPLE iPhone 11 Pro Max (Midnight Green, 64 GB)\n",
      "17          APPLE iPhone 11 Pro Max (Space Grey, 64 GB)\n",
      "16     APPLE iPhone 11 Pro Max (Midnight Green, 256 GB)\n",
      "14               APPLE iPhone 11 Pro Max (Gold, 256 GB)\n",
      "0                     APPLE iPhone 8 Plus (Gold, 64 GB)\n",
      "12    Apple iPhone XR (Black, 128 GB) (Includes EarP...\n",
      "11    Apple iPhone XR (Coral, 128 GB) (Includes EarP...\n",
      "9     Apple iPhone XR ((PRODUCT)RED, 128 GB) (Includ...\n",
      "1              APPLE iPhone 8 Plus (Space Grey, 256 GB)\n",
      "Name: Product Name, dtype: object\n"
     ]
    }
   ],
   "source": [
    "hs_rated = data.sort_values(by=['Star Rating'],ascending=False)\n",
    "hs_rated = hs_rated.head(10)\n",
    "print(hs_rated['Product Name'])"
   ]
  },
  {
   "cell_type": "markdown",
   "id": "1af92b04-ec4c-4785-a51e-61d0f5aff351",
   "metadata": {},
   "source": [
    "***LETS HAVE A LOOK AT THE NUMBER OF RATINGS OF THE HS RATED IPHONE ON FLIPKART***"
   ]
  },
  {
   "cell_type": "code",
   "execution_count": 17,
   "id": "3fd8e53d-4f92-4fb8-948d-6caefaa8b05e",
   "metadata": {},
   "outputs": [
    {
     "data": {
      "application/vnd.plotly.v1+json": {
       "config": {
        "plotlyServerURL": "https://plot.ly"
       },
       "data": [
        {
         "hovertemplate": "Product Name=%{x}<br>Number Of Ratings=%{y}<extra></extra>",
         "legendgroup": "",
         "marker": {
          "color": "#636efa",
          "pattern": {
           "shape": ""
          }
         },
         "name": "",
         "orientation": "v",
         "showlegend": false,
         "textposition": "auto",
         "type": "bar",
         "x": [
          "APPLE iPhone 11 Pro Max (Gold, 64 GB)",
          "APPLE iPhone 11 Pro Max (Midnight Green, 64 GB)",
          "APPLE iPhone 11 Pro Max (Space Grey, 64 GB)",
          "APPLE iPhone 11 Pro Max (Midnight Green, 256 GB)",
          "APPLE iPhone 11 Pro Max (Gold, 256 GB)",
          "APPLE iPhone 8 Plus (Gold, 64 GB)",
          "Apple iPhone XR (Black, 128 GB) (Includes EarPods, Power Adapter)",
          "Apple iPhone XR (Coral, 128 GB) (Includes EarPods, Power Adapter)",
          "Apple iPhone XR ((PRODUCT)RED, 128 GB) (Includes EarPods, Power Adapter)",
          "APPLE iPhone 8 Plus (Space Grey, 256 GB)"
         ],
         "xaxis": "x",
         "y": {
          "_inputArray": {
           "0": 1078,
           "1": 1078,
           "2": 1078,
           "3": 1078,
           "4": 1078,
           "5": 3431,
           "6": 79512,
           "7": 79582,
           "8": 79512,
           "9": 3431,
           "bdata": "NgQAADYEAAA2BAAANgQAADYEAABnDQAAmDYBAN42AQCYNgEAZw0AAA==",
           "dtype": "i4",
           "shape": "10"
          },
          "bdata": "NgQAADYEAAA2BAAANgQAADYEAABnDQAAmDYBAN42AQCYNgEAZw0AAA==",
          "dtype": "i4"
         },
         "yaxis": "y"
        }
       ],
       "layout": {
        "autosize": true,
        "barmode": "relative",
        "legend": {
         "tracegroupgap": 0
        },
        "template": {
         "data": {
          "bar": [
           {
            "error_x": {
             "color": "#2a3f5f"
            },
            "error_y": {
             "color": "#2a3f5f"
            },
            "marker": {
             "line": {
              "color": "#E5ECF6",
              "width": 0.5
             },
             "pattern": {
              "fillmode": "overlay",
              "size": 10,
              "solidity": 0.2
             }
            },
            "type": "bar"
           }
          ],
          "barpolar": [
           {
            "marker": {
             "line": {
              "color": "#E5ECF6",
              "width": 0.5
             },
             "pattern": {
              "fillmode": "overlay",
              "size": 10,
              "solidity": 0.2
             }
            },
            "type": "barpolar"
           }
          ],
          "carpet": [
           {
            "aaxis": {
             "endlinecolor": "#2a3f5f",
             "gridcolor": "white",
             "linecolor": "white",
             "minorgridcolor": "white",
             "startlinecolor": "#2a3f5f"
            },
            "baxis": {
             "endlinecolor": "#2a3f5f",
             "gridcolor": "white",
             "linecolor": "white",
             "minorgridcolor": "white",
             "startlinecolor": "#2a3f5f"
            },
            "type": "carpet"
           }
          ],
          "choropleth": [
           {
            "colorbar": {
             "outlinewidth": 0,
             "ticks": ""
            },
            "type": "choropleth"
           }
          ],
          "contour": [
           {
            "colorbar": {
             "outlinewidth": 0,
             "ticks": ""
            },
            "colorscale": [
             [
              0,
              "#0d0887"
             ],
             [
              0.1111111111111111,
              "#46039f"
             ],
             [
              0.2222222222222222,
              "#7201a8"
             ],
             [
              0.3333333333333333,
              "#9c179e"
             ],
             [
              0.4444444444444444,
              "#bd3786"
             ],
             [
              0.5555555555555556,
              "#d8576b"
             ],
             [
              0.6666666666666666,
              "#ed7953"
             ],
             [
              0.7777777777777778,
              "#fb9f3a"
             ],
             [
              0.8888888888888888,
              "#fdca26"
             ],
             [
              1,
              "#f0f921"
             ]
            ],
            "type": "contour"
           }
          ],
          "contourcarpet": [
           {
            "colorbar": {
             "outlinewidth": 0,
             "ticks": ""
            },
            "type": "contourcarpet"
           }
          ],
          "heatmap": [
           {
            "colorbar": {
             "outlinewidth": 0,
             "ticks": ""
            },
            "colorscale": [
             [
              0,
              "#0d0887"
             ],
             [
              0.1111111111111111,
              "#46039f"
             ],
             [
              0.2222222222222222,
              "#7201a8"
             ],
             [
              0.3333333333333333,
              "#9c179e"
             ],
             [
              0.4444444444444444,
              "#bd3786"
             ],
             [
              0.5555555555555556,
              "#d8576b"
             ],
             [
              0.6666666666666666,
              "#ed7953"
             ],
             [
              0.7777777777777778,
              "#fb9f3a"
             ],
             [
              0.8888888888888888,
              "#fdca26"
             ],
             [
              1,
              "#f0f921"
             ]
            ],
            "type": "heatmap"
           }
          ],
          "histogram": [
           {
            "marker": {
             "pattern": {
              "fillmode": "overlay",
              "size": 10,
              "solidity": 0.2
             }
            },
            "type": "histogram"
           }
          ],
          "histogram2d": [
           {
            "colorbar": {
             "outlinewidth": 0,
             "ticks": ""
            },
            "colorscale": [
             [
              0,
              "#0d0887"
             ],
             [
              0.1111111111111111,
              "#46039f"
             ],
             [
              0.2222222222222222,
              "#7201a8"
             ],
             [
              0.3333333333333333,
              "#9c179e"
             ],
             [
              0.4444444444444444,
              "#bd3786"
             ],
             [
              0.5555555555555556,
              "#d8576b"
             ],
             [
              0.6666666666666666,
              "#ed7953"
             ],
             [
              0.7777777777777778,
              "#fb9f3a"
             ],
             [
              0.8888888888888888,
              "#fdca26"
             ],
             [
              1,
              "#f0f921"
             ]
            ],
            "type": "histogram2d"
           }
          ],
          "histogram2dcontour": [
           {
            "colorbar": {
             "outlinewidth": 0,
             "ticks": ""
            },
            "colorscale": [
             [
              0,
              "#0d0887"
             ],
             [
              0.1111111111111111,
              "#46039f"
             ],
             [
              0.2222222222222222,
              "#7201a8"
             ],
             [
              0.3333333333333333,
              "#9c179e"
             ],
             [
              0.4444444444444444,
              "#bd3786"
             ],
             [
              0.5555555555555556,
              "#d8576b"
             ],
             [
              0.6666666666666666,
              "#ed7953"
             ],
             [
              0.7777777777777778,
              "#fb9f3a"
             ],
             [
              0.8888888888888888,
              "#fdca26"
             ],
             [
              1,
              "#f0f921"
             ]
            ],
            "type": "histogram2dcontour"
           }
          ],
          "mesh3d": [
           {
            "colorbar": {
             "outlinewidth": 0,
             "ticks": ""
            },
            "type": "mesh3d"
           }
          ],
          "parcoords": [
           {
            "line": {
             "colorbar": {
              "outlinewidth": 0,
              "ticks": ""
             }
            },
            "type": "parcoords"
           }
          ],
          "pie": [
           {
            "automargin": true,
            "type": "pie"
           }
          ],
          "scatter": [
           {
            "fillpattern": {
             "fillmode": "overlay",
             "size": 10,
             "solidity": 0.2
            },
            "type": "scatter"
           }
          ],
          "scatter3d": [
           {
            "line": {
             "colorbar": {
              "outlinewidth": 0,
              "ticks": ""
             }
            },
            "marker": {
             "colorbar": {
              "outlinewidth": 0,
              "ticks": ""
             }
            },
            "type": "scatter3d"
           }
          ],
          "scattercarpet": [
           {
            "marker": {
             "colorbar": {
              "outlinewidth": 0,
              "ticks": ""
             }
            },
            "type": "scattercarpet"
           }
          ],
          "scattergeo": [
           {
            "marker": {
             "colorbar": {
              "outlinewidth": 0,
              "ticks": ""
             }
            },
            "type": "scattergeo"
           }
          ],
          "scattergl": [
           {
            "marker": {
             "colorbar": {
              "outlinewidth": 0,
              "ticks": ""
             }
            },
            "type": "scattergl"
           }
          ],
          "scattermap": [
           {
            "marker": {
             "colorbar": {
              "outlinewidth": 0,
              "ticks": ""
             }
            },
            "type": "scattermap"
           }
          ],
          "scattermapbox": [
           {
            "marker": {
             "colorbar": {
              "outlinewidth": 0,
              "ticks": ""
             }
            },
            "type": "scattermapbox"
           }
          ],
          "scatterpolar": [
           {
            "marker": {
             "colorbar": {
              "outlinewidth": 0,
              "ticks": ""
             }
            },
            "type": "scatterpolar"
           }
          ],
          "scatterpolargl": [
           {
            "marker": {
             "colorbar": {
              "outlinewidth": 0,
              "ticks": ""
             }
            },
            "type": "scatterpolargl"
           }
          ],
          "scatterternary": [
           {
            "marker": {
             "colorbar": {
              "outlinewidth": 0,
              "ticks": ""
             }
            },
            "type": "scatterternary"
           }
          ],
          "surface": [
           {
            "colorbar": {
             "outlinewidth": 0,
             "ticks": ""
            },
            "colorscale": [
             [
              0,
              "#0d0887"
             ],
             [
              0.1111111111111111,
              "#46039f"
             ],
             [
              0.2222222222222222,
              "#7201a8"
             ],
             [
              0.3333333333333333,
              "#9c179e"
             ],
             [
              0.4444444444444444,
              "#bd3786"
             ],
             [
              0.5555555555555556,
              "#d8576b"
             ],
             [
              0.6666666666666666,
              "#ed7953"
             ],
             [
              0.7777777777777778,
              "#fb9f3a"
             ],
             [
              0.8888888888888888,
              "#fdca26"
             ],
             [
              1,
              "#f0f921"
             ]
            ],
            "type": "surface"
           }
          ],
          "table": [
           {
            "cells": {
             "fill": {
              "color": "#EBF0F8"
             },
             "line": {
              "color": "white"
             }
            },
            "header": {
             "fill": {
              "color": "#C8D4E3"
             },
             "line": {
              "color": "white"
             }
            },
            "type": "table"
           }
          ]
         },
         "layout": {
          "annotationdefaults": {
           "arrowcolor": "#2a3f5f",
           "arrowhead": 0,
           "arrowwidth": 1
          },
          "autotypenumbers": "strict",
          "coloraxis": {
           "colorbar": {
            "outlinewidth": 0,
            "ticks": ""
           }
          },
          "colorscale": {
           "diverging": [
            [
             0,
             "#8e0152"
            ],
            [
             0.1,
             "#c51b7d"
            ],
            [
             0.2,
             "#de77ae"
            ],
            [
             0.3,
             "#f1b6da"
            ],
            [
             0.4,
             "#fde0ef"
            ],
            [
             0.5,
             "#f7f7f7"
            ],
            [
             0.6,
             "#e6f5d0"
            ],
            [
             0.7,
             "#b8e186"
            ],
            [
             0.8,
             "#7fbc41"
            ],
            [
             0.9,
             "#4d9221"
            ],
            [
             1,
             "#276419"
            ]
           ],
           "sequential": [
            [
             0,
             "#0d0887"
            ],
            [
             0.1111111111111111,
             "#46039f"
            ],
            [
             0.2222222222222222,
             "#7201a8"
            ],
            [
             0.3333333333333333,
             "#9c179e"
            ],
            [
             0.4444444444444444,
             "#bd3786"
            ],
            [
             0.5555555555555556,
             "#d8576b"
            ],
            [
             0.6666666666666666,
             "#ed7953"
            ],
            [
             0.7777777777777778,
             "#fb9f3a"
            ],
            [
             0.8888888888888888,
             "#fdca26"
            ],
            [
             1,
             "#f0f921"
            ]
           ],
           "sequentialminus": [
            [
             0,
             "#0d0887"
            ],
            [
             0.1111111111111111,
             "#46039f"
            ],
            [
             0.2222222222222222,
             "#7201a8"
            ],
            [
             0.3333333333333333,
             "#9c179e"
            ],
            [
             0.4444444444444444,
             "#bd3786"
            ],
            [
             0.5555555555555556,
             "#d8576b"
            ],
            [
             0.6666666666666666,
             "#ed7953"
            ],
            [
             0.7777777777777778,
             "#fb9f3a"
            ],
            [
             0.8888888888888888,
             "#fdca26"
            ],
            [
             1,
             "#f0f921"
            ]
           ]
          },
          "colorway": [
           "#636efa",
           "#EF553B",
           "#00cc96",
           "#ab63fa",
           "#FFA15A",
           "#19d3f3",
           "#FF6692",
           "#B6E880",
           "#FF97FF",
           "#FECB52"
          ],
          "font": {
           "color": "#2a3f5f"
          },
          "geo": {
           "bgcolor": "white",
           "lakecolor": "white",
           "landcolor": "#E5ECF6",
           "showlakes": true,
           "showland": true,
           "subunitcolor": "white"
          },
          "hoverlabel": {
           "align": "left"
          },
          "hovermode": "closest",
          "mapbox": {
           "style": "light"
          },
          "paper_bgcolor": "white",
          "plot_bgcolor": "#E5ECF6",
          "polar": {
           "angularaxis": {
            "gridcolor": "white",
            "linecolor": "white",
            "ticks": ""
           },
           "bgcolor": "#E5ECF6",
           "radialaxis": {
            "gridcolor": "white",
            "linecolor": "white",
            "ticks": ""
           }
          },
          "scene": {
           "xaxis": {
            "backgroundcolor": "#E5ECF6",
            "gridcolor": "white",
            "gridwidth": 2,
            "linecolor": "white",
            "showbackground": true,
            "ticks": "",
            "zerolinecolor": "white"
           },
           "yaxis": {
            "backgroundcolor": "#E5ECF6",
            "gridcolor": "white",
            "gridwidth": 2,
            "linecolor": "white",
            "showbackground": true,
            "ticks": "",
            "zerolinecolor": "white"
           },
           "zaxis": {
            "backgroundcolor": "#E5ECF6",
            "gridcolor": "white",
            "gridwidth": 2,
            "linecolor": "white",
            "showbackground": true,
            "ticks": "",
            "zerolinecolor": "white"
           }
          },
          "shapedefaults": {
           "line": {
            "color": "#2a3f5f"
           }
          },
          "ternary": {
           "aaxis": {
            "gridcolor": "white",
            "linecolor": "white",
            "ticks": ""
           },
           "baxis": {
            "gridcolor": "white",
            "linecolor": "white",
            "ticks": ""
           },
           "bgcolor": "#E5ECF6",
           "caxis": {
            "gridcolor": "white",
            "linecolor": "white",
            "ticks": ""
           }
          },
          "title": {
           "x": 0.05
          },
          "xaxis": {
           "automargin": true,
           "gridcolor": "white",
           "linecolor": "white",
           "ticks": "",
           "title": {
            "standoff": 15
           },
           "zerolinecolor": "white",
           "zerolinewidth": 2
          },
          "yaxis": {
           "automargin": true,
           "gridcolor": "white",
           "linecolor": "white",
           "ticks": "",
           "title": {
            "standoff": 15
           },
           "zerolinecolor": "white",
           "zerolinewidth": 2
          }
         }
        },
        "title": {
         "text": "Number of ratings of highest rated i phones"
        },
        "xaxis": {
         "anchor": "y",
         "autorange": true,
         "domain": [
          0,
          1
         ],
         "range": [
          -0.5,
          9.5
         ],
         "showspikes": false,
         "title": {
          "text": "Product Name"
         },
         "type": "category"
        },
        "yaxis": {
         "anchor": "x",
         "autorange": true,
         "domain": [
          0,
          1
         ],
         "range": [
          0,
          83770.52631578948
         ],
         "showspikes": false,
         "title": {
          "text": "Number Of Ratings"
         },
         "type": "linear"
        }
       }
      },
      "image/png": "[encoded data removed]"
     },
     "metadata": {},
     "output_type": "display_data"
    }
   ],
   "source": [
    "iphones = hs_rated[\"Product Name\"].value_counts()\n",
    "labels = iphones.index\n",
    "counts = hs_rated[\"Number Of Ratings\"]\n",
    "figure = px.bar(hs_rated, x = labels, y = counts, title = \"Number of ratings of highest rated i phones\")\n",
    "figure.show()"
   ]
  },
  {
   "cell_type": "code",
   "execution_count": 19,
   "id": "b02bc5aa-b9bb-472e-b00d-e81ee5656fcc",
   "metadata": {},
   "outputs": [
    {
     "data": {
      "text/plain": [
       "Index(['Product Name', 'Product URL', 'Brand', 'Sale Price', 'Mrp',\n",
       "       'Discount Percentage', 'Number Of Ratings', 'Number Of Reviews', 'Upc',\n",
       "       'Star Rating', 'Ram'],\n",
       "      dtype='object')"
      ]
     },
     "execution_count": 19,
     "metadata": {},
     "output_type": "execute_result"
    }
   ],
   "source": [
    "data.columns"
   ]
  },
  {
   "cell_type": "code",
   "execution_count": 30,
   "id": "067c27da-fd70-443d-b121-bcc501ea4a16",
   "metadata": {},
   "outputs": [
    {
     "name": "stdout",
     "output_type": "stream",
     "text": [
      "Collecting statsmodels\n",
      "  Downloading statsmodels-0.14.5-cp311-cp311-win_amd64.whl.metadata (9.8 kB)\n",
      "Requirement already satisfied: numpy<3,>=1.22.3 in c:\\users\\dolly\\appdata\\local\\programs\\python\\python311\\lib\\site-packages (from statsmodels) (2.1.2)\n",
      "Collecting scipy!=1.9.2,>=1.8 (from statsmodels)\n",
      "  Downloading scipy-1.16.0-cp311-cp311-win_amd64.whl.metadata (60 kB)\n",
      "Requirement already satisfied: pandas!=2.1.0,>=1.4 in c:\\users\\dolly\\appdata\\local\\programs\\python\\python311\\lib\\site-packages (from statsmodels) (2.2.3)\n",
      "Collecting patsy>=0.5.6 (from statsmodels)\n",
      "  Downloading patsy-1.0.1-py2.py3-none-any.whl.metadata (3.3 kB)\n",
      "Requirement already satisfied: packaging>=21.3 in c:\\users\\dolly\\appdata\\local\\programs\\python\\python311\\lib\\site-packages (from statsmodels) (24.1)\n",
      "Requirement already satisfied: python-dateutil>=2.8.2 in c:\\users\\dolly\\appdata\\local\\programs\\python\\python311\\lib\\site-packages (from pandas!=2.1.0,>=1.4->statsmodels) (2.9.0.post0)\n",
      "Requirement already satisfied: pytz>=2020.1 in c:\\users\\dolly\\appdata\\local\\programs\\python\\python311\\lib\\site-packages (from pandas!=2.1.0,>=1.4->statsmodels) (2024.2)\n",
      "Requirement already satisfied: tzdata>=2022.7 in c:\\users\\dolly\\appdata\\local\\programs\\python\\python311\\lib\\site-packages (from pandas!=2.1.0,>=1.4->statsmodels) (2024.2)\n",
      "Requirement already satisfied: six>=1.5 in c:\\users\\dolly\\appdata\\local\\programs\\python\\python311\\lib\\site-packages (from python-dateutil>=2.8.2->pandas!=2.1.0,>=1.4->statsmodels) (1.16.0)\n",
      "Downloading statsmodels-0.14.5-cp311-cp311-win_amd64.whl (9.6 MB)\n",
      "   ---------------------------------------- 0.0/9.6 MB ? eta -:--:--\n",
      "   - -------------------------------------- 0.3/9.6 MB ? eta -:--:--\n",
      "   --- ------------------------------------ 0.8/9.6 MB 2.2 MB/s eta 0:00:04\n",
      "   ----- ---------------------------------- 1.3/9.6 MB 2.3 MB/s eta 0:00:04\n",
      "   ------ --------------------------------- 1.6/9.6 MB 2.2 MB/s eta 0:00:04\n",
      "   ------- -------------------------------- 1.8/9.6 MB 2.1 MB/s eta 0:00:04\n",
      "   -------- ------------------------------- 2.1/9.6 MB 2.0 MB/s eta 0:00:04\n",
      "   --------- ------------------------------ 2.4/9.6 MB 1.8 MB/s eta 0:00:04\n",
      "   ---------- ----------------------------- 2.6/9.6 MB 1.8 MB/s eta 0:00:04\n",
      "   ------------- -------------------------- 3.1/9.6 MB 1.7 MB/s eta 0:00:04\n",
      "   -------------- ------------------------- 3.4/9.6 MB 1.7 MB/s eta 0:00:04\n",
      "   ---------------- ----------------------- 3.9/9.6 MB 1.7 MB/s eta 0:00:04\n",
      "   ----------------- ---------------------- 4.2/9.6 MB 1.7 MB/s eta 0:00:04\n",
      "   ------------------ --------------------- 4.5/9.6 MB 1.7 MB/s eta 0:00:04\n",
      "   -------------------- ------------------- 5.0/9.6 MB 1.8 MB/s eta 0:00:03\n",
      "   --------------------- ------------------ 5.2/9.6 MB 1.7 MB/s eta 0:00:03\n",
      "   ---------------------- ----------------- 5.5/9.6 MB 1.7 MB/s eta 0:00:03\n",
      "   ------------------------- -------------- 6.0/9.6 MB 1.7 MB/s eta 0:00:03\n",
      "   -------------------------- ------------- 6.3/9.6 MB 1.7 MB/s eta 0:00:02\n",
      "   --------------------------- ------------ 6.6/9.6 MB 1.7 MB/s eta 0:00:02\n",
      "   ---------------------------- ----------- 6.8/9.6 MB 1.7 MB/s eta 0:00:02\n",
      "   ----------------------------- ---------- 7.1/9.6 MB 1.7 MB/s eta 0:00:02\n",
      "   ------------------------------ --------- 7.3/9.6 MB 1.6 MB/s eta 0:00:02\n",
      "   ------------------------------- -------- 7.6/9.6 MB 1.6 MB/s eta 0:00:02\n",
      "   -------------------------------- ------- 7.9/9.6 MB 1.6 MB/s eta 0:00:02\n",
      "   --------------------------------- ------ 8.1/9.6 MB 1.6 MB/s eta 0:00:01\n",
      "   --------------------------------- ------ 8.1/9.6 MB 1.6 MB/s eta 0:00:01\n",
      "   ---------------------------------- ----- 8.4/9.6 MB 1.5 MB/s eta 0:00:01\n",
      "   ----------------------------------- ---- 8.7/9.6 MB 1.5 MB/s eta 0:00:01\n",
      "   ------------------------------------ --- 8.9/9.6 MB 1.5 MB/s eta 0:00:01\n",
      "   ---------------------------------------  9.4/9.6 MB 1.5 MB/s eta 0:00:01\n",
      "   ---------------------------------------- 9.6/9.6 MB 1.5 MB/s eta 0:00:00\n",
      "Downloading patsy-1.0.1-py2.py3-none-any.whl (232 kB)\n",
      "Downloading scipy-1.16.0-cp311-cp311-win_amd64.whl (38.6 MB)\n",
      "   ---------------------------------------- 0.0/38.6 MB ? eta -:--:--\n",
      "   ---------------------------------------- 0.3/38.6 MB ? eta -:--:--\n",
      "    --------------------------------------- 0.5/38.6 MB 1.3 MB/s eta 0:00:30\n",
      "    --------------------------------------- 0.8/38.6 MB 1.4 MB/s eta 0:00:28\n",
      "   - -------------------------------------- 1.0/38.6 MB 1.5 MB/s eta 0:00:26\n",
      "   - -------------------------------------- 1.6/38.6 MB 1.6 MB/s eta 0:00:23\n",
      "   -- ------------------------------------- 2.1/38.6 MB 1.8 MB/s eta 0:00:21\n",
      "   -- ------------------------------------- 2.6/38.6 MB 1.9 MB/s eta 0:00:20\n",
      "   -- ------------------------------------- 2.9/38.6 MB 1.9 MB/s eta 0:00:19\n",
      "   --- ------------------------------------ 3.7/38.6 MB 2.0 MB/s eta 0:00:18\n",
      "   ---- ----------------------------------- 4.2/38.6 MB 2.1 MB/s eta 0:00:17\n",
      "   ---- ----------------------------------- 4.7/38.6 MB 2.1 MB/s eta 0:00:16\n",
      "   ----- ---------------------------------- 5.0/38.6 MB 2.1 MB/s eta 0:00:16\n",
      "   ----- ---------------------------------- 5.5/38.6 MB 2.1 MB/s eta 0:00:16\n",
      "   ------ --------------------------------- 6.0/38.6 MB 2.1 MB/s eta 0:00:16\n",
      "   ------ --------------------------------- 6.3/38.6 MB 2.1 MB/s eta 0:00:16\n",
      "   ------ --------------------------------- 6.3/38.6 MB 2.1 MB/s eta 0:00:16\n",
      "   ------- -------------------------------- 6.8/38.6 MB 2.0 MB/s eta 0:00:17\n",
      "   ------- -------------------------------- 7.1/38.6 MB 1.9 MB/s eta 0:00:17\n",
      "   ------- -------------------------------- 7.3/38.6 MB 1.9 MB/s eta 0:00:17\n",
      "   ------- -------------------------------- 7.3/38.6 MB 1.9 MB/s eta 0:00:17\n",
      "   ------- -------------------------------- 7.6/38.6 MB 1.8 MB/s eta 0:00:18\n",
      "   -------- ------------------------------- 7.9/38.6 MB 1.8 MB/s eta 0:00:18\n",
      "   -------- ------------------------------- 8.1/38.6 MB 1.7 MB/s eta 0:00:18\n",
      "   -------- ------------------------------- 8.4/38.6 MB 1.7 MB/s eta 0:00:18\n",
      "   -------- ------------------------------- 8.7/38.6 MB 1.7 MB/s eta 0:00:18\n",
      "   --------- ------------------------------ 8.9/38.6 MB 1.7 MB/s eta 0:00:18\n",
      "   --------- ------------------------------ 8.9/38.6 MB 1.7 MB/s eta 0:00:18\n",
      "   --------- ------------------------------ 9.2/38.6 MB 1.6 MB/s eta 0:00:19\n",
      "   --------- ------------------------------ 9.4/38.6 MB 1.6 MB/s eta 0:00:19\n",
      "   --------- ------------------------------ 9.4/38.6 MB 1.6 MB/s eta 0:00:19\n",
      "   ---------- ----------------------------- 9.7/38.6 MB 1.5 MB/s eta 0:00:19\n",
      "   ---------- ----------------------------- 10.0/38.6 MB 1.5 MB/s eta 0:00:19\n",
      "   ---------- ----------------------------- 10.2/38.6 MB 1.5 MB/s eta 0:00:19\n",
      "   ----------- ---------------------------- 10.7/38.6 MB 1.5 MB/s eta 0:00:19\n",
      "   ----------- ---------------------------- 11.0/38.6 MB 1.5 MB/s eta 0:00:19\n",
      "   ----------- ---------------------------- 11.3/38.6 MB 1.5 MB/s eta 0:00:19\n",
      "   ----------- ---------------------------- 11.5/38.6 MB 1.5 MB/s eta 0:00:18\n",
      "   ------------ --------------------------- 11.8/38.6 MB 1.5 MB/s eta 0:00:18\n",
      "   ------------ --------------------------- 12.1/38.6 MB 1.5 MB/s eta 0:00:18\n",
      "   ------------ --------------------------- 12.3/38.6 MB 1.5 MB/s eta 0:00:18\n",
      "   ------------- -------------------------- 12.8/38.6 MB 1.5 MB/s eta 0:00:18\n",
      "   ------------- -------------------------- 13.1/38.6 MB 1.5 MB/s eta 0:00:17\n",
      "   ------------- -------------------------- 13.1/38.6 MB 1.5 MB/s eta 0:00:17\n",
      "   ------------- -------------------------- 13.4/38.6 MB 1.5 MB/s eta 0:00:18\n",
      "   -------------- ------------------------- 13.6/38.6 MB 1.5 MB/s eta 0:00:17\n",
      "   -------------- ------------------------- 13.6/38.6 MB 1.5 MB/s eta 0:00:17\n",
      "   -------------- ------------------------- 13.9/38.6 MB 1.4 MB/s eta 0:00:18\n",
      "   -------------- ------------------------- 13.9/38.6 MB 1.4 MB/s eta 0:00:18\n",
      "   -------------- ------------------------- 14.2/38.6 MB 1.4 MB/s eta 0:00:18\n",
      "   -------------- ------------------------- 14.2/38.6 MB 1.4 MB/s eta 0:00:18\n",
      "   -------------- ------------------------- 14.2/38.6 MB 1.4 MB/s eta 0:00:18\n",
      "   -------------- ------------------------- 14.4/38.6 MB 1.3 MB/s eta 0:00:19\n",
      "   -------------- ------------------------- 14.4/38.6 MB 1.3 MB/s eta 0:00:19\n",
      "   --------------- ------------------------ 14.7/38.6 MB 1.3 MB/s eta 0:00:19\n",
      "   --------------- ------------------------ 14.9/38.6 MB 1.3 MB/s eta 0:00:19\n",
      "   --------------- ------------------------ 15.2/38.6 MB 1.3 MB/s eta 0:00:19\n",
      "   --------------- ------------------------ 15.2/38.6 MB 1.3 MB/s eta 0:00:19\n",
      "   --------------- ------------------------ 15.2/38.6 MB 1.3 MB/s eta 0:00:19\n",
      "   --------------- ------------------------ 15.2/38.6 MB 1.3 MB/s eta 0:00:19\n",
      "   ---------------- ----------------------- 15.5/38.6 MB 1.2 MB/s eta 0:00:19\n",
      "   ---------------- ----------------------- 15.7/38.6 MB 1.2 MB/s eta 0:00:19\n",
      "   ---------------- ----------------------- 16.0/38.6 MB 1.2 MB/s eta 0:00:19\n",
      "   ----------------- ---------------------- 16.5/38.6 MB 1.3 MB/s eta 0:00:18\n",
      "   ----------------- ---------------------- 17.0/38.6 MB 1.3 MB/s eta 0:00:17\n",
      "   ------------------ --------------------- 17.6/38.6 MB 1.3 MB/s eta 0:00:17\n",
      "   ------------------ --------------------- 18.1/38.6 MB 1.3 MB/s eta 0:00:16\n",
      "   ------------------- -------------------- 18.6/38.6 MB 1.3 MB/s eta 0:00:15\n",
      "   ------------------- -------------------- 19.1/38.6 MB 1.3 MB/s eta 0:00:15\n",
      "   -------------------- ------------------- 19.4/38.6 MB 1.4 MB/s eta 0:00:15\n",
      "   -------------------- ------------------- 19.9/38.6 MB 1.4 MB/s eta 0:00:14\n",
      "   -------------------- ------------------- 20.2/38.6 MB 1.4 MB/s eta 0:00:14\n",
      "   --------------------- ------------------ 20.4/38.6 MB 1.4 MB/s eta 0:00:14\n",
      "   --------------------- ------------------ 20.7/38.6 MB 1.4 MB/s eta 0:00:14\n",
      "   --------------------- ------------------ 21.0/38.6 MB 1.4 MB/s eta 0:00:13\n",
      "   ---------------------- ----------------- 21.2/38.6 MB 1.4 MB/s eta 0:00:13\n",
      "   ---------------------- ----------------- 21.5/38.6 MB 1.4 MB/s eta 0:00:13\n",
      "   ---------------------- ----------------- 21.8/38.6 MB 1.4 MB/s eta 0:00:13\n",
      "   ---------------------- ----------------- 22.0/38.6 MB 1.4 MB/s eta 0:00:13\n",
      "   ----------------------- ---------------- 22.3/38.6 MB 1.4 MB/s eta 0:00:13\n",
      "   ----------------------- ---------------- 22.8/38.6 MB 1.4 MB/s eta 0:00:12\n",
      "   ------------------------ --------------- 23.3/38.6 MB 1.4 MB/s eta 0:00:12\n",
      "   ------------------------ --------------- 23.6/38.6 MB 1.4 MB/s eta 0:00:11\n",
      "   ------------------------- -------------- 24.1/38.6 MB 1.4 MB/s eta 0:00:11\n",
      "   ------------------------- -------------- 24.6/38.6 MB 1.4 MB/s eta 0:00:10\n",
      "   -------------------------- ------------- 25.2/38.6 MB 1.4 MB/s eta 0:00:10\n",
      "   -------------------------- ------------- 25.7/38.6 MB 1.4 MB/s eta 0:00:09\n",
      "   --------------------------- ------------ 26.2/38.6 MB 1.4 MB/s eta 0:00:09\n",
      "   ---------------------------- ----------- 27.0/38.6 MB 1.5 MB/s eta 0:00:08\n",
      "   ---------------------------- ----------- 27.8/38.6 MB 1.5 MB/s eta 0:00:08\n",
      "   ----------------------------- ---------- 28.6/38.6 MB 1.5 MB/s eta 0:00:07\n",
      "   ------------------------------ --------- 29.4/38.6 MB 1.5 MB/s eta 0:00:06\n",
      "   ------------------------------ --------- 29.9/38.6 MB 1.6 MB/s eta 0:00:06\n",
      "   ------------------------------- -------- 30.4/38.6 MB 1.6 MB/s eta 0:00:06\n",
      "   ------------------------------- -------- 30.4/38.6 MB 1.6 MB/s eta 0:00:06\n",
      "   ------------------------------- -------- 30.7/38.6 MB 1.6 MB/s eta 0:00:06\n",
      "   -------------------------------- ------- 30.9/38.6 MB 1.5 MB/s eta 0:00:05\n",
      "   -------------------------------- ------- 31.5/38.6 MB 1.6 MB/s eta 0:00:05\n",
      "   -------------------------------- ------- 31.5/38.6 MB 1.6 MB/s eta 0:00:05\n",
      "   -------------------------------- ------- 31.7/38.6 MB 1.5 MB/s eta 0:00:05\n",
      "   --------------------------------- ------ 32.2/38.6 MB 1.5 MB/s eta 0:00:05\n",
      "   --------------------------------- ------ 32.5/38.6 MB 1.5 MB/s eta 0:00:04\n",
      "   --------------------------------- ------ 32.5/38.6 MB 1.5 MB/s eta 0:00:04\n",
      "   ---------------------------------- ----- 33.0/38.6 MB 1.5 MB/s eta 0:00:04\n",
      "   ---------------------------------- ----- 33.3/38.6 MB 1.5 MB/s eta 0:00:04\n",
      "   ---------------------------------- ----- 33.6/38.6 MB 1.5 MB/s eta 0:00:04\n",
      "   ----------------------------------- ---- 33.8/38.6 MB 1.5 MB/s eta 0:00:04\n",
      "   ----------------------------------- ---- 34.1/38.6 MB 1.5 MB/s eta 0:00:03\n",
      "   ----------------------------------- ---- 34.3/38.6 MB 1.5 MB/s eta 0:00:03\n",
      "   ------------------------------------ --- 34.9/38.6 MB 1.5 MB/s eta 0:00:03\n",
      "   ------------------------------------ --- 35.7/38.6 MB 1.6 MB/s eta 0:00:02\n",
      "   ------------------------------------- -- 36.2/38.6 MB 1.6 MB/s eta 0:00:02\n",
      "   -------------------------------------- - 37.0/38.6 MB 1.6 MB/s eta 0:00:02\n",
      "   ---------------------------------------  37.7/38.6 MB 1.6 MB/s eta 0:00:01\n",
      "   ---------------------------------------  38.3/38.6 MB 1.6 MB/s eta 0:00:01\n",
      "   ---------------------------------------- 38.6/38.6 MB 1.6 MB/s eta 0:00:00\n",
      "Installing collected packages: scipy, patsy, statsmodels\n",
      "\n",
      "   ---------------------------------------- 0/3 [scipy]\n",
      "   ---------------------------------------- 0/3 [scipy]\n",
      "   ---------------------------------------- 0/3 [scipy]\n",
      "   ---------------------------------------- 0/3 [scipy]\n",
      "   ---------------------------------------- 0/3 [scipy]\n",
      "   ---------------------------------------- 0/3 [scipy]\n",
      "   ---------------------------------------- 0/3 [scipy]\n",
      "   ---------------------------------------- 0/3 [scipy]\n",
      "   ---------------------------------------- 0/3 [scipy]\n",
      "   ---------------------------------------- 0/3 [scipy]\n",
      "   ---------------------------------------- 0/3 [scipy]\n",
      "   ---------------------------------------- 0/3 [scipy]\n",
      "   ---------------------------------------- 0/3 [scipy]\n",
      "   ---------------------------------------- 0/3 [scipy]\n",
      "   ---------------------------------------- 0/3 [scipy]\n",
      "   ---------------------------------------- 0/3 [scipy]\n",
      "   ---------------------------------------- 0/3 [scipy]\n",
      "   ---------------------------------------- 0/3 [scipy]\n",
      "   ---------------------------------------- 0/3 [scipy]\n",
      "   ---------------------------------------- 0/3 [scipy]\n",
      "   ---------------------------------------- 0/3 [scipy]\n",
      "   ---------------------------------------- 0/3 [scipy]\n",
      "   ---------------------------------------- 0/3 [scipy]\n",
      "   ---------------------------------------- 0/3 [scipy]\n",
      "   ---------------------------------------- 0/3 [scipy]\n",
      "   ---------------------------------------- 0/3 [scipy]\n",
      "   ---------------------------------------- 0/3 [scipy]\n",
      "   ---------------------------------------- 0/3 [scipy]\n",
      "   ---------------------------------------- 0/3 [scipy]\n",
      "   ---------------------------------------- 0/3 [scipy]\n",
      "   ---------------------------------------- 0/3 [scipy]\n",
      "   ---------------------------------------- 0/3 [scipy]\n",
      "   ---------------------------------------- 0/3 [scipy]\n",
      "   ---------------------------------------- 0/3 [scipy]\n",
      "   ---------------------------------------- 0/3 [scipy]\n",
      "   ---------------------------------------- 0/3 [scipy]\n",
      "   ---------------------------------------- 0/3 [scipy]\n",
      "   ---------------------------------------- 0/3 [scipy]\n",
      "   ---------------------------------------- 0/3 [scipy]\n",
      "   ---------------------------------------- 0/3 [scipy]\n",
      "   ---------------------------------------- 0/3 [scipy]\n",
      "   ---------------------------------------- 0/3 [scipy]\n",
      "   ---------------------------------------- 0/3 [scipy]\n",
      "   ---------------------------------------- 0/3 [scipy]\n",
      "   ---------------------------------------- 0/3 [scipy]\n",
      "   ---------------------------------------- 0/3 [scipy]\n",
      "   ---------------------------------------- 0/3 [scipy]\n",
      "   ---------------------------------------- 0/3 [scipy]\n",
      "   ---------------------------------------- 0/3 [scipy]\n",
      "   ---------------------------------------- 0/3 [scipy]\n",
      "   ---------------------------------------- 0/3 [scipy]\n",
      "   ---------------------------------------- 0/3 [scipy]\n",
      "   ---------------------------------------- 0/3 [scipy]\n",
      "   ---------------------------------------- 0/3 [scipy]\n",
      "   ---------------------------------------- 0/3 [scipy]\n",
      "   ---------------------------------------- 0/3 [scipy]\n",
      "   ---------------------------------------- 0/3 [scipy]\n",
      "   ---------------------------------------- 0/3 [scipy]\n",
      "   ---------------------------------------- 0/3 [scipy]\n",
      "   ---------------------------------------- 0/3 [scipy]\n",
      "   ---------------------------------------- 0/3 [scipy]\n",
      "   ---------------------------------------- 0/3 [scipy]\n",
      "   ---------------------------------------- 0/3 [scipy]\n",
      "   ---------------------------------------- 0/3 [scipy]\n",
      "   ---------------------------------------- 0/3 [scipy]\n",
      "   ---------------------------------------- 0/3 [scipy]\n",
      "   ---------------------------------------- 0/3 [scipy]\n",
      "   ---------------------------------------- 0/3 [scipy]\n",
      "   ---------------------------------------- 0/3 [scipy]\n",
      "   ---------------------------------------- 0/3 [scipy]\n",
      "   ---------------------------------------- 0/3 [scipy]\n",
      "   ---------------------------------------- 0/3 [scipy]\n",
      "   ---------------------------------------- 0/3 [scipy]\n",
      "   ---------------------------------------- 0/3 [scipy]\n",
      "   ---------------------------------------- 0/3 [scipy]\n",
      "   ---------------------------------------- 0/3 [scipy]\n",
      "   ---------------------------------------- 0/3 [scipy]\n",
      "   ---------------------------------------- 0/3 [scipy]\n",
      "   ---------------------------------------- 0/3 [scipy]\n",
      "   ---------------------------------------- 0/3 [scipy]\n",
      "   ---------------------------------------- 0/3 [scipy]\n",
      "   ---------------------------------------- 0/3 [scipy]\n",
      "   ---------------------------------------- 0/3 [scipy]\n",
      "   ---------------------------------------- 0/3 [scipy]\n",
      "   ---------------------------------------- 0/3 [scipy]\n",
      "   ---------------------------------------- 0/3 [scipy]\n",
      "   ---------------------------------------- 0/3 [scipy]\n",
      "   ---------------------------------------- 0/3 [scipy]\n",
      "   ---------------------------------------- 0/3 [scipy]\n",
      "   ---------------------------------------- 0/3 [scipy]\n",
      "   ---------------------------------------- 0/3 [scipy]\n",
      "   ---------------------------------------- 0/3 [scipy]\n",
      "   ---------------------------------------- 0/3 [scipy]\n",
      "   ---------------------------------------- 0/3 [scipy]\n",
      "   ---------------------------------------- 0/3 [scipy]\n",
      "   ---------------------------------------- 0/3 [scipy]\n",
      "   ---------------------------------------- 0/3 [scipy]\n",
      "   ---------------------------------------- 0/3 [scipy]\n",
      "   ---------------------------------------- 0/3 [scipy]\n",
      "   ---------------------------------------- 0/3 [scipy]\n",
      "   ---------------------------------------- 0/3 [scipy]\n",
      "   ---------------------------------------- 0/3 [scipy]\n",
      "   ---------------------------------------- 0/3 [scipy]\n",
      "   ---------------------------------------- 0/3 [scipy]\n",
      "   ---------------------------------------- 0/3 [scipy]\n",
      "   ---------------------------------------- 0/3 [scipy]\n",
      "   ---------------------------------------- 0/3 [scipy]\n",
      "   ---------------------------------------- 0/3 [scipy]\n",
      "   ---------------------------------------- 0/3 [scipy]\n",
      "   ---------------------------------------- 0/3 [scipy]\n",
      "   ---------------------------------------- 0/3 [scipy]\n",
      "   ---------------------------------------- 0/3 [scipy]\n",
      "   ---------------------------------------- 0/3 [scipy]\n",
      "   ---------------------------------------- 0/3 [scipy]\n",
      "   ---------------------------------------- 0/3 [scipy]\n",
      "   ---------------------------------------- 0/3 [scipy]\n",
      "   ---------------------------------------- 0/3 [scipy]\n",
      "   ---------------------------------------- 0/3 [scipy]\n",
      "   ---------------------------------------- 0/3 [scipy]\n",
      "   ---------------------------------------- 0/3 [scipy]\n",
      "   ---------------------------------------- 0/3 [scipy]\n",
      "   ---------------------------------------- 0/3 [scipy]\n",
      "   ---------------------------------------- 0/3 [scipy]\n",
      "   ---------------------------------------- 0/3 [scipy]\n",
      "   ---------------------------------------- 0/3 [scipy]\n",
      "   ---------------------------------------- 0/3 [scipy]\n",
      "   ---------------------------------------- 0/3 [scipy]\n",
      "   ---------------------------------------- 0/3 [scipy]\n",
      "   ---------------------------------------- 0/3 [scipy]\n",
      "   ---------------------------------------- 0/3 [scipy]\n",
      "   ---------------------------------------- 0/3 [scipy]\n",
      "   ---------------------------------------- 0/3 [scipy]\n",
      "   ---------------------------------------- 0/3 [scipy]\n",
      "   ---------------------------------------- 0/3 [scipy]\n",
      "   ---------------------------------------- 0/3 [scipy]\n",
      "   ---------------------------------------- 0/3 [scipy]\n",
      "   ---------------------------------------- 0/3 [scipy]\n",
      "   ---------------------------------------- 0/3 [scipy]\n",
      "   ---------------------------------------- 0/3 [scipy]\n",
      "   ---------------------------------------- 0/3 [scipy]\n",
      "   ---------------------------------------- 0/3 [scipy]\n",
      "   ---------------------------------------- 0/3 [scipy]\n",
      "   ---------------------------------------- 0/3 [scipy]\n",
      "   ---------------------------------------- 0/3 [scipy]\n",
      "   ---------------------------------------- 0/3 [scipy]\n",
      "   ---------------------------------------- 0/3 [scipy]\n",
      "   ---------------------------------------- 0/3 [scipy]\n",
      "   ---------------------------------------- 0/3 [scipy]\n",
      "   ---------------------------------------- 0/3 [scipy]\n",
      "   ---------------------------------------- 0/3 [scipy]\n",
      "   ---------------------------------------- 0/3 [scipy]\n",
      "   ---------------------------------------- 0/3 [scipy]\n",
      "   ---------------------------------------- 0/3 [scipy]\n",
      "   ---------------------------------------- 0/3 [scipy]\n",
      "   ---------------------------------------- 0/3 [scipy]\n",
      "   ---------------------------------------- 0/3 [scipy]\n",
      "   ---------------------------------------- 0/3 [scipy]\n",
      "   ---------------------------------------- 0/3 [scipy]\n",
      "   ---------------------------------------- 0/3 [scipy]\n",
      "   ---------------------------------------- 0/3 [scipy]\n",
      "   ---------------------------------------- 0/3 [scipy]\n",
      "   ---------------------------------------- 0/3 [scipy]\n",
      "   ---------------------------------------- 0/3 [scipy]\n",
      "   ---------------------------------------- 0/3 [scipy]\n",
      "   ---------------------------------------- 0/3 [scipy]\n",
      "   ---------------------------------------- 0/3 [scipy]\n",
      "   ---------------------------------------- 0/3 [scipy]\n",
      "   ---------------------------------------- 0/3 [scipy]\n",
      "   ---------------------------------------- 0/3 [scipy]\n",
      "   ---------------------------------------- 0/3 [scipy]\n",
      "   ---------------------------------------- 0/3 [scipy]\n",
      "   ---------------------------------------- 0/3 [scipy]\n",
      "   ---------------------------------------- 0/3 [scipy]\n",
      "   ---------------------------------------- 0/3 [scipy]\n",
      "   ---------------------------------------- 0/3 [scipy]\n",
      "   ---------------------------------------- 0/3 [scipy]\n",
      "   ---------------------------------------- 0/3 [scipy]\n",
      "   ---------------------------------------- 0/3 [scipy]\n",
      "   ---------------------------------------- 0/3 [scipy]\n",
      "   ---------------------------------------- 0/3 [scipy]\n",
      "   ---------------------------------------- 0/3 [scipy]\n",
      "   ---------------------------------------- 0/3 [scipy]\n",
      "   ---------------------------------------- 0/3 [scipy]\n",
      "   ---------------------------------------- 0/3 [scipy]\n",
      "   ---------------------------------------- 0/3 [scipy]\n",
      "   ---------------------------------------- 0/3 [scipy]\n",
      "   ---------------------------------------- 0/3 [scipy]\n",
      "   ---------------------------------------- 0/3 [scipy]\n",
      "   ---------------------------------------- 0/3 [scipy]\n",
      "   ---------------------------------------- 0/3 [scipy]\n",
      "   ---------------------------------------- 0/3 [scipy]\n",
      "   ---------------------------------------- 0/3 [scipy]\n",
      "   ---------------------------------------- 0/3 [scipy]\n",
      "   ---------------------------------------- 0/3 [scipy]\n",
      "   ---------------------------------------- 0/3 [scipy]\n",
      "   ---------------------------------------- 0/3 [scipy]\n",
      "   ---------------------------------------- 0/3 [scipy]\n",
      "   ---------------------------------------- 0/3 [scipy]\n",
      "   ---------------------------------------- 0/3 [scipy]\n",
      "   ---------------------------------------- 0/3 [scipy]\n",
      "   ---------------------------------------- 0/3 [scipy]\n",
      "   ---------------------------------------- 0/3 [scipy]\n",
      "   ---------------------------------------- 0/3 [scipy]\n",
      "   ---------------------------------------- 0/3 [scipy]\n",
      "   ---------------------------------------- 0/3 [scipy]\n",
      "   ---------------------------------------- 0/3 [scipy]\n",
      "   ---------------------------------------- 0/3 [scipy]\n",
      "   ---------------------------------------- 0/3 [scipy]\n",
      "   ---------------------------------------- 0/3 [scipy]\n",
      "   ---------------------------------------- 0/3 [scipy]\n",
      "   ---------------------------------------- 0/3 [scipy]\n",
      "   ---------------------------------------- 0/3 [scipy]\n",
      "   ---------------------------------------- 0/3 [scipy]\n",
      "   ---------------------------------------- 0/3 [scipy]\n",
      "   ---------------------------------------- 0/3 [scipy]\n",
      "   ---------------------------------------- 0/3 [scipy]\n",
      "   ---------------------------------------- 0/3 [scipy]\n",
      "   ---------------------------------------- 0/3 [scipy]\n",
      "   ---------------------------------------- 0/3 [scipy]\n",
      "   ---------------------------------------- 0/3 [scipy]\n",
      "   ---------------------------------------- 0/3 [scipy]\n",
      "   ---------------------------------------- 0/3 [scipy]\n",
      "   ---------------------------------------- 0/3 [scipy]\n",
      "   ---------------------------------------- 0/3 [scipy]\n",
      "   ---------------------------------------- 0/3 [scipy]\n",
      "   ---------------------------------------- 0/3 [scipy]\n",
      "   ---------------------------------------- 0/3 [scipy]\n",
      "   ---------------------------------------- 0/3 [scipy]\n",
      "   ---------------------------------------- 0/3 [scipy]\n",
      "   ---------------------------------------- 0/3 [scipy]\n",
      "   ---------------------------------------- 0/3 [scipy]\n",
      "   ---------------------------------------- 0/3 [scipy]\n",
      "   ---------------------------------------- 0/3 [scipy]\n",
      "   ---------------------------------------- 0/3 [scipy]\n",
      "   ---------------------------------------- 0/3 [scipy]\n",
      "   ---------------------------------------- 0/3 [scipy]\n",
      "   ---------------------------------------- 0/3 [scipy]\n",
      "   ---------------------------------------- 0/3 [scipy]\n",
      "   ---------------------------------------- 0/3 [scipy]\n",
      "   ---------------------------------------- 0/3 [scipy]\n",
      "   ---------------------------------------- 0/3 [scipy]\n",
      "   ---------------------------------------- 0/3 [scipy]\n",
      "   ---------------------------------------- 0/3 [scipy]\n",
      "   ---------------------------------------- 0/3 [scipy]\n",
      "   ---------------------------------------- 0/3 [scipy]\n",
      "   ---------------------------------------- 0/3 [scipy]\n",
      "   ---------------------------------------- 0/3 [scipy]\n",
      "   ---------------------------------------- 0/3 [scipy]\n",
      "   ---------------------------------------- 0/3 [scipy]\n",
      "   ---------------------------------------- 0/3 [scipy]\n",
      "   ---------------------------------------- 0/3 [scipy]\n",
      "   ---------------------------------------- 0/3 [scipy]\n",
      "   ---------------------------------------- 0/3 [scipy]\n",
      "   ---------------------------------------- 0/3 [scipy]\n",
      "   ---------------------------------------- 0/3 [scipy]\n",
      "   ---------------------------------------- 0/3 [scipy]\n",
      "   ---------------------------------------- 0/3 [scipy]\n",
      "   ---------------------------------------- 0/3 [scipy]\n",
      "   ---------------------------------------- 0/3 [scipy]\n",
      "   ---------------------------------------- 0/3 [scipy]\n",
      "   ---------------------------------------- 0/3 [scipy]\n",
      "   ------------- -------------------------- 1/3 [patsy]\n",
      "   ------------- -------------------------- 1/3 [patsy]\n",
      "   ------------- -------------------------- 1/3 [patsy]\n",
      "   ------------- -------------------------- 1/3 [patsy]\n",
      "   ------------- -------------------------- 1/3 [patsy]\n",
      "   ------------- -------------------------- 1/3 [patsy]\n",
      "   ------------- -------------------------- 1/3 [patsy]\n",
      "   -------------------------- ------------- 2/3 [statsmodels]\n",
      "   -------------------------- ------------- 2/3 [statsmodels]\n",
      "   -------------------------- ------------- 2/3 [statsmodels]\n",
      "   -------------------------- ------------- 2/3 [statsmodels]\n",
      "   -------------------------- ------------- 2/3 [statsmodels]\n",
      "   -------------------------- ------------- 2/3 [statsmodels]\n",
      "   -------------------------- ------------- 2/3 [statsmodels]\n",
      "   -------------------------- ------------- 2/3 [statsmodels]\n",
      "   -------------------------- ------------- 2/3 [statsmodels]\n",
      "   -------------------------- ------------- 2/3 [statsmodels]\n",
      "   -------------------------- ------------- 2/3 [statsmodels]\n",
      "   -------------------------- ------------- 2/3 [statsmodels]\n",
      "   -------------------------- ------------- 2/3 [statsmodels]\n",
      "   -------------------------- ------------- 2/3 [statsmodels]\n",
      "   -------------------------- ------------- 2/3 [statsmodels]\n",
      "   -------------------------- ------------- 2/3 [statsmodels]\n",
      "   -------------------------- ------------- 2/3 [statsmodels]\n",
      "   -------------------------- ------------- 2/3 [statsmodels]\n",
      "   -------------------------- ------------- 2/3 [statsmodels]\n",
      "   -------------------------- ------------- 2/3 [statsmodels]\n",
      "   -------------------------- ------------- 2/3 [statsmodels]\n",
      "   -------------------------- ------------- 2/3 [statsmodels]\n",
      "   -------------------------- ------------- 2/3 [statsmodels]\n",
      "   -------------------------- ------------- 2/3 [statsmodels]\n",
      "   -------------------------- ------------- 2/3 [statsmodels]\n",
      "   -------------------------- ------------- 2/3 [statsmodels]\n",
      "   -------------------------- ------------- 2/3 [statsmodels]\n",
      "   -------------------------- ------------- 2/3 [statsmodels]\n",
      "   -------------------------- ------------- 2/3 [statsmodels]\n",
      "   -------------------------- ------------- 2/3 [statsmodels]\n",
      "   -------------------------- ------------- 2/3 [statsmodels]\n",
      "   -------------------------- ------------- 2/3 [statsmodels]\n",
      "   -------------------------- ------------- 2/3 [statsmodels]\n",
      "   -------------------------- ------------- 2/3 [statsmodels]\n",
      "   -------------------------- ------------- 2/3 [statsmodels]\n",
      "   -------------------------- ------------- 2/3 [statsmodels]\n",
      "   -------------------------- ------------- 2/3 [statsmodels]\n",
      "   -------------------------- ------------- 2/3 [statsmodels]\n",
      "   -------------------------- ------------- 2/3 [statsmodels]\n",
      "   -------------------------- ------------- 2/3 [statsmodels]\n",
      "   -------------------------- ------------- 2/3 [statsmodels]\n",
      "   -------------------------- ------------- 2/3 [statsmodels]\n",
      "   -------------------------- ------------- 2/3 [statsmodels]\n",
      "   -------------------------- ------------- 2/3 [statsmodels]\n",
      "   -------------------------- ------------- 2/3 [statsmodels]\n",
      "   -------------------------- ------------- 2/3 [statsmodels]\n",
      "   -------------------------- ------------- 2/3 [statsmodels]\n",
      "   -------------------------- ------------- 2/3 [statsmodels]\n",
      "   -------------------------- ------------- 2/3 [statsmodels]\n",
      "   -------------------------- ------------- 2/3 [statsmodels]\n",
      "   -------------------------- ------------- 2/3 [statsmodels]\n",
      "   -------------------------- ------------- 2/3 [statsmodels]\n",
      "   -------------------------- ------------- 2/3 [statsmodels]\n",
      "   -------------------------- ------------- 2/3 [statsmodels]\n",
      "   -------------------------- ------------- 2/3 [statsmodels]\n",
      "   -------------------------- ------------- 2/3 [statsmodels]\n",
      "   -------------------------- ------------- 2/3 [statsmodels]\n",
      "   -------------------------- ------------- 2/3 [statsmodels]\n",
      "   -------------------------- ------------- 2/3 [statsmodels]\n",
      "   -------------------------- ------------- 2/3 [statsmodels]\n",
      "   -------------------------- ------------- 2/3 [statsmodels]\n",
      "   -------------------------- ------------- 2/3 [statsmodels]\n",
      "   -------------------------- ------------- 2/3 [statsmodels]\n",
      "   -------------------------- ------------- 2/3 [statsmodels]\n",
      "   -------------------------- ------------- 2/3 [statsmodels]\n",
      "   -------------------------- ------------- 2/3 [statsmodels]\n",
      "   -------------------------- ------------- 2/3 [statsmodels]\n",
      "   -------------------------- ------------- 2/3 [statsmodels]\n",
      "   -------------------------- ------------- 2/3 [statsmodels]\n",
      "   -------------------------- ------------- 2/3 [statsmodels]\n",
      "   -------------------------- ------------- 2/3 [statsmodels]\n",
      "   -------------------------- ------------- 2/3 [statsmodels]\n",
      "   -------------------------- ------------- 2/3 [statsmodels]\n",
      "   -------------------------- ------------- 2/3 [statsmodels]\n",
      "   -------------------------- ------------- 2/3 [statsmodels]\n",
      "   -------------------------- ------------- 2/3 [statsmodels]\n",
      "   -------------------------- ------------- 2/3 [statsmodels]\n",
      "   -------------------------- ------------- 2/3 [statsmodels]\n",
      "   -------------------------- ------------- 2/3 [statsmodels]\n",
      "   -------------------------- ------------- 2/3 [statsmodels]\n",
      "   -------------------------- ------------- 2/3 [statsmodels]\n",
      "   -------------------------- ------------- 2/3 [statsmodels]\n",
      "   -------------------------- ------------- 2/3 [statsmodels]\n",
      "   -------------------------- ------------- 2/3 [statsmodels]\n",
      "   -------------------------- ------------- 2/3 [statsmodels]\n",
      "   -------------------------- ------------- 2/3 [statsmodels]\n",
      "   -------------------------- ------------- 2/3 [statsmodels]\n",
      "   -------------------------- ------------- 2/3 [statsmodels]\n",
      "   -------------------------- ------------- 2/3 [statsmodels]\n",
      "   -------------------------- ------------- 2/3 [statsmodels]\n",
      "   -------------------------- ------------- 2/3 [statsmodels]\n",
      "   -------------------------- ------------- 2/3 [statsmodels]\n",
      "   -------------------------- ------------- 2/3 [statsmodels]\n",
      "   -------------------------- ------------- 2/3 [statsmodels]\n",
      "   -------------------------- ------------- 2/3 [statsmodels]\n",
      "   -------------------------- ------------- 2/3 [statsmodels]\n",
      "   -------------------------- ------------- 2/3 [statsmodels]\n",
      "   -------------------------- ------------- 2/3 [statsmodels]\n",
      "   -------------------------- ------------- 2/3 [statsmodels]\n",
      "   -------------------------- ------------- 2/3 [statsmodels]\n",
      "   -------------------------- ------------- 2/3 [statsmodels]\n",
      "   -------------------------- ------------- 2/3 [statsmodels]\n",
      "   -------------------------- ------------- 2/3 [statsmodels]\n",
      "   -------------------------- ------------- 2/3 [statsmodels]\n",
      "   -------------------------- ------------- 2/3 [statsmodels]\n",
      "   -------------------------- ------------- 2/3 [statsmodels]\n",
      "   -------------------------- ------------- 2/3 [statsmodels]\n",
      "   -------------------------- ------------- 2/3 [statsmodels]\n",
      "   -------------------------- ------------- 2/3 [statsmodels]\n",
      "   -------------------------- ------------- 2/3 [statsmodels]\n",
      "   -------------------------- ------------- 2/3 [statsmodels]\n",
      "   -------------------------- ------------- 2/3 [statsmodels]\n",
      "   -------------------------- ------------- 2/3 [statsmodels]\n",
      "   -------------------------- ------------- 2/3 [statsmodels]\n",
      "   -------------------------- ------------- 2/3 [statsmodels]\n",
      "   -------------------------- ------------- 2/3 [statsmodels]\n",
      "   -------------------------- ------------- 2/3 [statsmodels]\n",
      "   -------------------------- ------------- 2/3 [statsmodels]\n",
      "   -------------------------- ------------- 2/3 [statsmodels]\n",
      "   -------------------------- ------------- 2/3 [statsmodels]\n",
      "   -------------------------- ------------- 2/3 [statsmodels]\n",
      "   -------------------------- ------------- 2/3 [statsmodels]\n",
      "   -------------------------- ------------- 2/3 [statsmodels]\n",
      "   -------------------------- ------------- 2/3 [statsmodels]\n",
      "   -------------------------- ------------- 2/3 [statsmodels]\n",
      "   -------------------------- ------------- 2/3 [statsmodels]\n",
      "   -------------------------- ------------- 2/3 [statsmodels]\n",
      "   -------------------------- ------------- 2/3 [statsmodels]\n",
      "   -------------------------- ------------- 2/3 [statsmodels]\n",
      "   -------------------------- ------------- 2/3 [statsmodels]\n",
      "   -------------------------- ------------- 2/3 [statsmodels]\n",
      "   -------------------------- ------------- 2/3 [statsmodels]\n",
      "   -------------------------- ------------- 2/3 [statsmodels]\n",
      "   -------------------------- ------------- 2/3 [statsmodels]\n",
      "   -------------------------- ------------- 2/3 [statsmodels]\n",
      "   -------------------------- ------------- 2/3 [statsmodels]\n",
      "   -------------------------- ------------- 2/3 [statsmodels]\n",
      "   -------------------------- ------------- 2/3 [statsmodels]\n",
      "   -------------------------- ------------- 2/3 [statsmodels]\n",
      "   -------------------------- ------------- 2/3 [statsmodels]\n",
      "   -------------------------- ------------- 2/3 [statsmodels]\n",
      "   -------------------------- ------------- 2/3 [statsmodels]\n",
      "   -------------------------- ------------- 2/3 [statsmodels]\n",
      "   -------------------------- ------------- 2/3 [statsmodels]\n",
      "   -------------------------- ------------- 2/3 [statsmodels]\n",
      "   -------------------------- ------------- 2/3 [statsmodels]\n",
      "   -------------------------- ------------- 2/3 [statsmodels]\n",
      "   -------------------------- ------------- 2/3 [statsmodels]\n",
      "   -------------------------- ------------- 2/3 [statsmodels]\n",
      "   -------------------------- ------------- 2/3 [statsmodels]\n",
      "   -------------------------- ------------- 2/3 [statsmodels]\n",
      "   -------------------------- ------------- 2/3 [statsmodels]\n",
      "   -------------------------- ------------- 2/3 [statsmodels]\n",
      "   -------------------------- ------------- 2/3 [statsmodels]\n",
      "   -------------------------- ------------- 2/3 [statsmodels]\n",
      "   -------------------------- ------------- 2/3 [statsmodels]\n",
      "   -------------------------- ------------- 2/3 [statsmodels]\n",
      "   -------------------------- ------------- 2/3 [statsmodels]\n",
      "   -------------------------- ------------- 2/3 [statsmodels]\n",
      "   -------------------------- ------------- 2/3 [statsmodels]\n",
      "   -------------------------- ------------- 2/3 [statsmodels]\n",
      "   -------------------------- ------------- 2/3 [statsmodels]\n",
      "   -------------------------- ------------- 2/3 [statsmodels]\n",
      "   -------------------------- ------------- 2/3 [statsmodels]\n",
      "   -------------------------- ------------- 2/3 [statsmodels]\n",
      "   -------------------------- ------------- 2/3 [statsmodels]\n",
      "   -------------------------- ------------- 2/3 [statsmodels]\n",
      "   -------------------------- ------------- 2/3 [statsmodels]\n",
      "   -------------------------- ------------- 2/3 [statsmodels]\n",
      "   -------------------------- ------------- 2/3 [statsmodels]\n",
      "   -------------------------- ------------- 2/3 [statsmodels]\n",
      "   -------------------------- ------------- 2/3 [statsmodels]\n",
      "   -------------------------- ------------- 2/3 [statsmodels]\n",
      "   -------------------------- ------------- 2/3 [statsmodels]\n",
      "   -------------------------- ------------- 2/3 [statsmodels]\n",
      "   -------------------------- ------------- 2/3 [statsmodels]\n",
      "   -------------------------- ------------- 2/3 [statsmodels]\n",
      "   -------------------------- ------------- 2/3 [statsmodels]\n",
      "   -------------------------- ------------- 2/3 [statsmodels]\n",
      "   -------------------------- ------------- 2/3 [statsmodels]\n",
      "   -------------------------- ------------- 2/3 [statsmodels]\n",
      "   -------------------------- ------------- 2/3 [statsmodels]\n",
      "   -------------------------- ------------- 2/3 [statsmodels]\n",
      "   -------------------------- ------------- 2/3 [statsmodels]\n",
      "   -------------------------- ------------- 2/3 [statsmodels]\n",
      "   -------------------------- ------------- 2/3 [statsmodels]\n",
      "   -------------------------- ------------- 2/3 [statsmodels]\n",
      "   -------------------------- ------------- 2/3 [statsmodels]\n",
      "   -------------------------- ------------- 2/3 [statsmodels]\n",
      "   -------------------------- ------------- 2/3 [statsmodels]\n",
      "   -------------------------- ------------- 2/3 [statsmodels]\n",
      "   -------------------------- ------------- 2/3 [statsmodels]\n",
      "   -------------------------- ------------- 2/3 [statsmodels]\n",
      "   -------------------------- ------------- 2/3 [statsmodels]\n",
      "   -------------------------- ------------- 2/3 [statsmodels]\n",
      "   -------------------------- ------------- 2/3 [statsmodels]\n",
      "   -------------------------- ------------- 2/3 [statsmodels]\n",
      "   -------------------------- ------------- 2/3 [statsmodels]\n",
      "   -------------------------- ------------- 2/3 [statsmodels]\n",
      "   -------------------------- ------------- 2/3 [statsmodels]\n",
      "   -------------------------- ------------- 2/3 [statsmodels]\n",
      "   -------------------------- ------------- 2/3 [statsmodels]\n",
      "   ---------------------------------------- 3/3 [statsmodels]\n",
      "\n",
      "Successfully installed patsy-1.0.1 scipy-1.16.0 statsmodels-0.14.5\n"
     ]
    }
   ],
   "source": [
    "!pip install statsmodels"
   ]
  },
  {
   "cell_type": "code",
   "execution_count": 31,
   "id": "8865c131-2af4-4735-873d-d64ade4d78ec",
   "metadata": {},
   "outputs": [
    {
     "data": {
      "application/vnd.plotly.v1+json": {
       "config": {
        "plotlyServerURL": "https://plot.ly"
       },
       "data": [
        {
         "hovertemplate": "Number Of Ratings=%{x}<br>Sale Price=%{y}<br>Discount Percentage=%{marker.size}<extra></extra>",
         "legendgroup": "",
         "marker": {
          "color": "#636efa",
          "size": {
           "_inputArray": {
            "0": 0,
            "1": 0,
            "2": 0,
            "3": 0,
            "4": 0,
            "5": 0,
            "6": 0,
            "7": 0,
            "8": 0,
            "9": 20,
            "10": 16,
            "11": 20,
            "12": 20,
            "13": 20,
            "14": 0,
            "15": 0,
            "16": 0,
            "17": 0,
            "18": 29,
            "19": 15,
            "20": 0,
            "21": 15,
            "22": 17,
            "23": 18,
            "24": 6,
            "25": 6,
            "26": 13,
            "27": 6,
            "28": 14,
            "29": 10,
            "30": 7,
            "31": 6,
            "32": 6,
            "33": 13,
            "34": 13,
            "35": 10,
            "36": 10,
            "37": 6,
            "38": 14,
            "39": 6,
            "40": 10,
            "41": 6,
            "42": 11,
            "43": 11,
            "44": 10,
            "45": 14,
            "46": 7,
            "47": 6,
            "48": 6,
            "49": 6,
            "50": 8,
            "51": 8,
            "52": 24,
            "53": 22,
            "54": 22,
            "55": 22,
            "56": 8,
            "57": 24,
            "58": 14,
            "59": 14,
            "60": 14,
            "61": 14,
            "bdata": "AAAAAAAAAAAAFBAUFBQAAAAAHQ8ADxESBgYNBg4KBwYGDQ0KCgYOBgoGCwsKDgcGBgYICBgWFhYIGA4ODg4=",
            "dtype": "i1",
            "shape": "62"
           },
           "bdata": "AAAAAAAAAAAAFBAUFBQAAAAAHQ8ADxESBgYNBg4KBwYGDQ0KCgYOBgoGCwsKDgcGBgYICBgWFhYIGA4ODg4=",
           "dtype": "i1"
          },
          "sizemode": "area",
          "sizeref": 0.0725,
          "symbol": "circle"
         },
         "mode": "markers",
         "name": "",
         "orientation": "v",
         "showlegend": false,
         "type": "scatter",
         "x": {
          "_inputArray": {
           "0": 3431,
           "1": 3431,
           "2": 3431,
           "3": 11202,
           "4": 11202,
           "5": 3431,
           "6": 3431,
           "7": 11202,
           "8": 1454,
           "9": 79512,
           "10": 79512,
           "11": 79582,
           "12": 79512,
           "13": 79512,
           "14": 1078,
           "15": 1078,
           "16": 1078,
           "17": 1078,
           "18": 7088,
           "19": 7088,
           "20": 1078,
           "21": 7088,
           "22": 7081,
           "23": 95909,
           "24": 542,
           "25": 580,
           "26": 740,
           "27": 545,
           "28": 740,
           "29": 2101,
           "30": 545,
           "31": 580,
           "32": 580,
           "33": 730,
           "34": 730,
           "35": 2101,
           "36": 2101,
           "37": 580,
           "38": 740,
           "39": 580,
           "40": 2092,
           "41": 545,
           "42": 2101,
           "43": 2092,
           "44": 2101,
           "45": 740,
           "46": 545,
           "47": 580,
           "48": 580,
           "49": 580,
           "50": 43707,
           "51": 43707,
           "52": 95807,
           "53": 95909,
           "54": 95807,
           "55": 95909,
           "56": 43470,
           "57": 95909,
           "58": 43470,
           "59": 43470,
           "60": 43470,
           "61": 43470,
           "bdata": "Zw0AAGcNAABnDQAAwisAAMIrAABnDQAAZw0AAMIrAACuBQAAmDYBAJg2AQDeNgEAmDYBAJg2AQA2BAAANgQAADYEAAA2BAAAsBsAALAbAAA2BAAAsBsAAKkbAACldgEAHgIAAEQCAADkAgAAIQIAAOQCAAA1CAAAIQIAAEQCAABEAgAA2gIAANoCAAA1CAAANQgAAEQCAADkAgAARAIAACwIAAAhAgAANQgAACwIAAA1CAAA5AIAACECAABEAgAARAIAAEQCAAC7qgAAu6oAAD92AQCldgEAP3YBAKV2AQDOqQAApXYBAM6pAADOqQAAzqkAAM6pAAA=",
           "dtype": "i4",
           "shape": "62"
          },
          "bdata": "Zw0AAGcNAABnDQAAwisAAMIrAABnDQAAZw0AAMIrAACuBQAAmDYBAJg2AQDeNgEAmDYBAJg2AQA2BAAANgQAADYEAAA2BAAAsBsAALAbAAA2BAAAsBsAAKkbAACldgEAHgIAAEQCAADkAgAAIQIAAOQCAAA1CAAAIQIAAEQCAABEAgAA2gIAANoCAAA1CAAANQgAAEQCAADkAgAARAIAACwIAAAhAgAANQgAACwIAAA1CAAA5AIAACECAABEAgAARAIAAEQCAAC7qgAAu6oAAD92AQCldgEAP3YBAKV2AQDOqQAApXYBAM6pAADOqQAAzqkAAM6pAAA=",
          "dtype": "i4"
         },
         "xaxis": "x",
         "y": {
          "_inputArray": {
           "0": 49900,
           "1": 84900,
           "2": 84900,
           "3": 77000,
           "4": 77000,
           "5": 49900,
           "6": 49900,
           "7": 77000,
           "8": 89900,
           "9": 41999,
           "10": 39999,
           "11": 41999,
           "12": 41999,
           "13": 41999,
           "14": 131900,
           "15": 117100,
           "16": 131900,
           "17": 117100,
           "18": 74999,
           "19": 117900,
           "20": 117100,
           "21": 117900,
           "22": 99900,
           "23": 44999,
           "24": 140900,
           "25": 130900,
           "26": 64900,
           "27": 120900,
           "28": 59900,
           "29": 75900,
           "30": 110900,
           "31": 130900,
           "32": 120900,
           "33": 64900,
           "34": 64900,
           "35": 75900,
           "36": 75900,
           "37": 120900,
           "38": 59900,
           "39": 120900,
           "40": 75900,
           "41": 140900,
           "42": 70900,
           "43": 70900,
           "44": 75900,
           "45": 59900,
           "46": 110900,
           "47": 120900,
           "48": 130900,
           "49": 130900,
           "50": 54999,
           "51": 54999,
           "52": 29999,
           "53": 34999,
           "54": 34999,
           "55": 34999,
           "56": 54999,
           "57": 29999,
           "58": 46999,
           "59": 46999,
           "60": 46999,
           "61": 46999,
           "bdata": "7MIAAKRLAQCkSwEAyCwBAMgsAQDswgAA7MIAAMgsAQAsXwEAD6QAAD+cAAAPpAAAD6QAAA+kAAA8AwIAbMkBADwDAgBsyQEA9yQBAIzMAQBsyQEAjMwBADyGAQDHrwAAZCYCAFT/AQCE/QAARNgBAPzpAAB8KAEANLEBAFT/AQBE2AEAhP0AAIT9AAB8KAEAfCgBAETYAQD86QAARNgBAHwoAQBkJgIA9BQBAPQUAQB8KAEA/OkAADSxAQBE2AEAVP8BAFT/AQDX1gAA19YAAC91AAC3iAAAt4gAALeIAADX1gAAL3UAAJe3AACXtwAAl7cAAJe3AAA=",
           "dtype": "i4",
           "shape": "62"
          },
          "bdata": "7MIAAKRLAQCkSwEAyCwBAMgsAQDswgAA7MIAAMgsAQAsXwEAD6QAAD+cAAAPpAAAD6QAAA+kAAA8AwIAbMkBADwDAgBsyQEA9yQBAIzMAQBsyQEAjMwBADyGAQDHrwAAZCYCAFT/AQCE/QAARNgBAPzpAAB8KAEANLEBAFT/AQBE2AEAhP0AAIT9AAB8KAEAfCgBAETYAQD86QAARNgBAHwoAQBkJgIA9BQBAPQUAQB8KAEA/OkAADSxAQBE2AEAVP8BAFT/AQDX1gAA19YAAC91AAC3iAAAt4gAALeIAADX1gAAL3UAAJe3AACXtwAAl7cAAJe3AAA=",
          "dtype": "i4"
         },
         "yaxis": "y"
        },
        {
         "hovertemplate": "<b>OLS trendline</b><br>Sale Price = -0.712783 * Number Of Ratings + 96054.8<br>R<sup>2</sup>=0.492139<br><br>Number Of Ratings=%{x}<br>Sale Price=%{y} <b>(trend)</b><extra></extra>",
         "legendgroup": "",
         "marker": {
          "color": "#636efa",
          "symbol": "circle"
         },
         "mode": "lines",
         "name": "",
         "showlegend": false,
         "type": "scatter",
         "x": {
          "_inputArray": {
           "0": 542,
           "1": 545,
           "2": 545,
           "3": 545,
           "4": 545,
           "5": 580,
           "6": 580,
           "7": 580,
           "8": 580,
           "9": 580,
           "10": 580,
           "11": 580,
           "12": 580,
           "13": 730,
           "14": 730,
           "15": 740,
           "16": 740,
           "17": 740,
           "18": 740,
           "19": 1078,
           "20": 1078,
           "21": 1078,
           "22": 1078,
           "23": 1078,
           "24": 1454,
           "25": 2092,
           "26": 2092,
           "27": 2101,
           "28": 2101,
           "29": 2101,
           "30": 2101,
           "31": 2101,
           "32": 3431,
           "33": 3431,
           "34": 3431,
           "35": 3431,
           "36": 3431,
           "37": 7081,
           "38": 7088,
           "39": 7088,
           "40": 7088,
           "41": 11202,
           "42": 11202,
           "43": 11202,
           "44": 43470,
           "45": 43470,
           "46": 43470,
           "47": 43470,
           "48": 43470,
           "49": 43707,
           "50": 43707,
           "51": 79512,
           "52": 79512,
           "53": 79512,
           "54": 79512,
           "55": 79582,
           "56": 95807,
           "57": 95807,
           "58": 95909,
           "59": 95909,
           "60": 95909,
           "61": 95909,
           "bdata": "HgIAACECAAAhAgAAIQIAACECAABEAgAARAIAAEQCAABEAgAARAIAAEQCAABEAgAARAIAANoCAADaAgAA5AIAAOQCAADkAgAA5AIAADYEAAA2BAAANgQAADYEAAA2BAAArgUAACwIAAAsCAAANQgAADUIAAA1CAAANQgAADUIAABnDQAAZw0AAGcNAABnDQAAZw0AAKkbAACwGwAAsBsAALAbAADCKwAAwisAAMIrAADOqQAAzqkAAM6pAADOqQAAzqkAALuqAAC7qgAAmDYBAJg2AQCYNgEAmDYBAN42AQA/dgEAP3YBAKV2AQCldgEApXYBAKV2AQA=",
           "dtype": "i4",
           "shape": "62"
          },
          "bdata": "HgIAACECAAAhAgAAIQIAACECAABEAgAARAIAAEQCAABEAgAARAIAAEQCAABEAgAARAIAANoCAADaAgAA5AIAAOQCAADkAgAA5AIAADYEAAA2BAAANgQAADYEAAA2BAAArgUAACwIAAAsCAAANQgAADUIAAA1CAAANQgAADUIAABnDQAAZw0AAGcNAABnDQAAZw0AAKkbAACwGwAAsBsAALAbAADCKwAAwisAAMIrAADOqQAAzqkAAM6pAADOqQAAzqkAALuqAAC7qgAAmDYBAJg2AQCYNgEAmDYBAN42AQA/dgEAP3YBAKV2AQCldgEApXYBAKV2AQA=",
          "dtype": "i4"
         },
         "xaxis": "x",
         "y": {
          "_inputArray": {
           "0": 95668.43493113319,
           "1": 95666.29658296307,
           "2": 95666.29658296307,
           "3": 95666.29658296307,
           "4": 95666.29658296307,
           "5": 95641.349187645,
           "6": 95641.349187645,
           "7": 95641.349187645,
           "8": 95641.349187645,
           "9": 95641.349187645,
           "10": 95641.349187645,
           "11": 95641.349187645,
           "12": 95641.349187645,
           "13": 95534.43177913893,
           "14": 95534.43177913893,
           "15": 95527.3039519052,
           "16": 95527.3039519052,
           "17": 95527.3039519052,
           "18": 95527.3039519052,
           "19": 95286.38339140487,
           "20": 95286.38339140487,
           "21": 95286.38339140487,
           "22": 95286.38339140487,
           "23": 95286.38339140487,
           "24": 95018.37708741636,
           "25": 94563.6217099039,
           "26": 94563.6217099039,
           "27": 94557.20666539355,
           "28": 94557.20666539355,
           "29": 94557.20666539355,
           "30": 94557.20666539355,
           "31": 94557.20666539355,
           "32": 93609.20564330649,
           "33": 93609.20564330649,
           "34": 93609.20564330649,
           "35": 93609.20564330649,
           "36": 93609.20564330649,
           "37": 91007.54870299237,
           "38": 91002.55922392875,
           "39": 91002.55922392875,
           "40": 91002.55922392875,
           "41": 88070.17109996921,
           "42": 88070.17109996921,
           "43": 88070.17109996921,
           "44": 65070.09818214564,
           "45": 65070.09818214564,
           "46": 65070.09818214564,
           "47": 65070.09818214564,
           "48": 65070.09818214564,
           "49": 64901.16867670606,
           "50": 64901.16867670606,
           "51": 39379.983266309595,
           "52": 39379.983266309595,
           "53": 39379.983266309595,
           "54": 39379.983266309595,
           "55": 39330.08847567343,
           "56": 27765.18878893464,
           "57": 27765.18878893464,
           "58": 27692.484951150516,
           "59": 27692.484951150516,
           "60": 27692.484951150516,
           "61": 27692.484951150516,
           "bdata": "EVl69UZb90Dvxs2+JFv3QO/Gzb4kW/dA78bNviRb90Dvxs2+JFv3QLfIRZaVWfdAt8hFlpVZ90C3yEWWlVn3QLfIRZaVWfdAt8hFlpVZ90C3yEWWlVn3QLfIRZaVWfdAt8hFlpVZ90ANPpHo5lL3QA0+kejmUvdARqz83HRS90BGrPzcdFL3QEas/Nx0UvdARqz83HRS90CYBl8iZkP3QJgGXyJmQ/dAmAZfImZD90CYBl8iZkP3QJgGXyJmQ/dAkNCMCKYy90COFYbyORb3QI4VhvI5FvdAKF+ATtMV90AoX4BO0xX3QChfgE7TFfdAKF+ATtMV90AoX4BO0xX3QMCiUEqT2vZAwKJQSpPa9kDAolBKk9r2QMCiUEqT2vZAwKJQSpPa9kD3yXzH+Df2QFLKlPKoN/ZAUsqU8qg39kBSypTyqDf2QEJS07xigPVAQlLTvGKA9UBCUtO8YoD1QBLiTiTDxe9AEuJOJMPF70AS4k4kw8XvQBLiTiTDxe9AEuJOJMPF70AEscxlpbDvQASxzGWlsO9AX+jqdn8640Bf6Op2fzrjQF/o6nZ/OuNAX+jqdn8640B878rUQjTjQAgvHhVMHdtACC8eFUwd20DojHAJHwvbQOiMcAkfC9tA6IxwCR8L20DojHAJHwvbQA==",
           "dtype": "f8",
           "shape": "62"
          },
          "bdata": "EVl69UZb90Dvxs2+JFv3QO/Gzb4kW/dA78bNviRb90Dvxs2+JFv3QLfIRZaVWfdAt8hFlpVZ90C3yEWWlVn3QLfIRZaVWfdAt8hFlpVZ90C3yEWWlVn3QLfIRZaVWfdAt8hFlpVZ90ANPpHo5lL3QA0+kejmUvdARqz83HRS90BGrPzcdFL3QEas/Nx0UvdARqz83HRS90CYBl8iZkP3QJgGXyJmQ/dAmAZfImZD90CYBl8iZkP3QJgGXyJmQ/dAkNCMCKYy90COFYbyORb3QI4VhvI5FvdAKF+ATtMV90AoX4BO0xX3QChfgE7TFfdAKF+ATtMV90AoX4BO0xX3QMCiUEqT2vZAwKJQSpPa9kDAolBKk9r2QMCiUEqT2vZAwKJQSpPa9kD3yXzH+Df2QFLKlPKoN/ZAUsqU8qg39kBSypTyqDf2QEJS07xigPVAQlLTvGKA9UBCUtO8YoD1QBLiTiTDxe9AEuJOJMPF70AS4k4kw8XvQBLiTiTDxe9AEuJOJMPF70AEscxlpbDvQASxzGWlsO9AX+jqdn8640Bf6Op2fzrjQF/o6nZ/OuNAX+jqdn8640B878rUQjTjQAgvHhVMHdtACC8eFUwd20DojHAJHwvbQOiMcAkfC9tA6IxwCR8L20DojHAJHwvbQA==",
          "dtype": "f8"
         },
         "yaxis": "y"
        }
       ],
       "layout": {
        "autosize": true,
        "legend": {
         "itemsizing": "constant",
         "tracegroupgap": 0
        },
        "template": {
         "data": {
          "bar": [
           {
            "error_x": {
             "color": "#2a3f5f"
            },
            "error_y": {
             "color": "#2a3f5f"
            },
            "marker": {
             "line": {
              "color": "#E5ECF6",
              "width": 0.5
             },
             "pattern": {
              "fillmode": "overlay",
              "size": 10,
              "solidity": 0.2
             }
            },
            "type": "bar"
           }
          ],
          "barpolar": [
           {
            "marker": {
             "line": {
              "color": "#E5ECF6",
              "width": 0.5
             },
             "pattern": {
              "fillmode": "overlay",
              "size": 10,
              "solidity": 0.2
             }
            },
            "type": "barpolar"
           }
          ],
          "carpet": [
           {
            "aaxis": {
             "endlinecolor": "#2a3f5f",
             "gridcolor": "white",
             "linecolor": "white",
             "minorgridcolor": "white",
             "startlinecolor": "#2a3f5f"
            },
            "baxis": {
             "endlinecolor": "#2a3f5f",
             "gridcolor": "white",
             "linecolor": "white",
             "minorgridcolor": "white",
             "startlinecolor": "#2a3f5f"
            },
            "type": "carpet"
           }
          ],
          "choropleth": [
           {
            "colorbar": {
             "outlinewidth": 0,
             "ticks": ""
            },
            "type": "choropleth"
           }
          ],
          "contour": [
           {
            "colorbar": {
             "outlinewidth": 0,
             "ticks": ""
            },
            "colorscale": [
             [
              0,
              "#0d0887"
             ],
             [
              0.1111111111111111,
              "#46039f"
             ],
             [
              0.2222222222222222,
              "#7201a8"
             ],
             [
              0.3333333333333333,
              "#9c179e"
             ],
             [
              0.4444444444444444,
              "#bd3786"
             ],
             [
              0.5555555555555556,
              "#d8576b"
             ],
             [
              0.6666666666666666,
              "#ed7953"
             ],
             [
              0.7777777777777778,
              "#fb9f3a"
             ],
             [
              0.8888888888888888,
              "#fdca26"
             ],
             [
              1,
              "#f0f921"
             ]
            ],
            "type": "contour"
           }
          ],
          "contourcarpet": [
           {
            "colorbar": {
             "outlinewidth": 0,
             "ticks": ""
            },
            "type": "contourcarpet"
           }
          ],
          "heatmap": [
           {
            "colorbar": {
             "outlinewidth": 0,
             "ticks": ""
            },
            "colorscale": [
             [
              0,
              "#0d0887"
             ],
             [
              0.1111111111111111,
              "#46039f"
             ],
             [
              0.2222222222222222,
              "#7201a8"
             ],
             [
              0.3333333333333333,
              "#9c179e"
             ],
             [
              0.4444444444444444,
              "#bd3786"
             ],
             [
              0.5555555555555556,
              "#d8576b"
             ],
             [
              0.6666666666666666,
              "#ed7953"
             ],
             [
              0.7777777777777778,
              "#fb9f3a"
             ],
             [
              0.8888888888888888,
              "#fdca26"
             ],
             [
              1,
              "#f0f921"
             ]
            ],
            "type": "heatmap"
           }
          ],
          "histogram": [
           {
            "marker": {
             "pattern": {
              "fillmode": "overlay",
              "size": 10,
              "solidity": 0.2
             }
            },
            "type": "histogram"
           }
          ],
          "histogram2d": [
           {
            "colorbar": {
             "outlinewidth": 0,
             "ticks": ""
            },
            "colorscale": [
             [
              0,
              "#0d0887"
             ],
             [
              0.1111111111111111,
              "#46039f"
             ],
             [
              0.2222222222222222,
              "#7201a8"
             ],
             [
              0.3333333333333333,
              "#9c179e"
             ],
             [
              0.4444444444444444,
              "#bd3786"
             ],
             [
              0.5555555555555556,
              "#d8576b"
             ],
             [
              0.6666666666666666,
              "#ed7953"
             ],
             [
              0.7777777777777778,
              "#fb9f3a"
             ],
             [
              0.8888888888888888,
              "#fdca26"
             ],
             [
              1,
              "#f0f921"
             ]
            ],
            "type": "histogram2d"
           }
          ],
          "histogram2dcontour": [
           {
            "colorbar": {
             "outlinewidth": 0,
             "ticks": ""
            },
            "colorscale": [
             [
              0,
              "#0d0887"
             ],
             [
              0.1111111111111111,
              "#46039f"
             ],
             [
              0.2222222222222222,
              "#7201a8"
             ],
             [
              0.3333333333333333,
              "#9c179e"
             ],
             [
              0.4444444444444444,
              "#bd3786"
             ],
             [
              0.5555555555555556,
              "#d8576b"
             ],
             [
              0.6666666666666666,
              "#ed7953"
             ],
             [
              0.7777777777777778,
              "#fb9f3a"
             ],
             [
              0.8888888888888888,
              "#fdca26"
             ],
             [
              1,
              "#f0f921"
             ]
            ],
            "type": "histogram2dcontour"
           }
          ],
          "mesh3d": [
           {
            "colorbar": {
             "outlinewidth": 0,
             "ticks": ""
            },
            "type": "mesh3d"
           }
          ],
          "parcoords": [
           {
            "line": {
             "colorbar": {
              "outlinewidth": 0,
              "ticks": ""
             }
            },
            "type": "parcoords"
           }
          ],
          "pie": [
           {
            "automargin": true,
            "type": "pie"
           }
          ],
          "scatter": [
           {
            "fillpattern": {
             "fillmode": "overlay",
             "size": 10,
             "solidity": 0.2
            },
            "type": "scatter"
           }
          ],
          "scatter3d": [
           {
            "line": {
             "colorbar": {
              "outlinewidth": 0,
              "ticks": ""
             }
            },
            "marker": {
             "colorbar": {
              "outlinewidth": 0,
              "ticks": ""
             }
            },
            "type": "scatter3d"
           }
          ],
          "scattercarpet": [
           {
            "marker": {
             "colorbar": {
              "outlinewidth": 0,
              "ticks": ""
             }
            },
            "type": "scattercarpet"
           }
          ],
          "scattergeo": [
           {
            "marker": {
             "colorbar": {
              "outlinewidth": 0,
              "ticks": ""
             }
            },
            "type": "scattergeo"
           }
          ],
          "scattergl": [
           {
            "marker": {
             "colorbar": {
              "outlinewidth": 0,
              "ticks": ""
             }
            },
            "type": "scattergl"
           }
          ],
          "scattermap": [
           {
            "marker": {
             "colorbar": {
              "outlinewidth": 0,
              "ticks": ""
             }
            },
            "type": "scattermap"
           }
          ],
          "scattermapbox": [
           {
            "marker": {
             "colorbar": {
              "outlinewidth": 0,
              "ticks": ""
             }
            },
            "type": "scattermapbox"
           }
          ],
          "scatterpolar": [
           {
            "marker": {
             "colorbar": {
              "outlinewidth": 0,
              "ticks": ""
             }
            },
            "type": "scatterpolar"
           }
          ],
          "scatterpolargl": [
           {
            "marker": {
             "colorbar": {
              "outlinewidth": 0,
              "ticks": ""
             }
            },
            "type": "scatterpolargl"
           }
          ],
          "scatterternary": [
           {
            "marker": {
             "colorbar": {
              "outlinewidth": 0,
              "ticks": ""
             }
            },
            "type": "scatterternary"
           }
          ],
          "surface": [
           {
            "colorbar": {
             "outlinewidth": 0,
             "ticks": ""
            },
            "colorscale": [
             [
              0,
              "#0d0887"
             ],
             [
              0.1111111111111111,
              "#46039f"
             ],
             [
              0.2222222222222222,
              "#7201a8"
             ],
             [
              0.3333333333333333,
              "#9c179e"
             ],
             [
              0.4444444444444444,
              "#bd3786"
             ],
             [
              0.5555555555555556,
              "#d8576b"
             ],
             [
              0.6666666666666666,
              "#ed7953"
             ],
             [
              0.7777777777777778,
              "#fb9f3a"
             ],
             [
              0.8888888888888888,
              "#fdca26"
             ],
             [
              1,
              "#f0f921"
             ]
            ],
            "type": "surface"
           }
          ],
          "table": [
           {
            "cells": {
             "fill": {
              "color": "#EBF0F8"
             },
             "line": {
              "color": "white"
             }
            },
            "header": {
             "fill": {
              "color": "#C8D4E3"
             },
             "line": {
              "color": "white"
             }
            },
            "type": "table"
           }
          ]
         },
         "layout": {
          "annotationdefaults": {
           "arrowcolor": "#2a3f5f",
           "arrowhead": 0,
           "arrowwidth": 1
          },
          "autotypenumbers": "strict",
          "coloraxis": {
           "colorbar": {
            "outlinewidth": 0,
            "ticks": ""
           }
          },
          "colorscale": {
           "diverging": [
            [
             0,
             "#8e0152"
            ],
            [
             0.1,
             "#c51b7d"
            ],
            [
             0.2,
             "#de77ae"
            ],
            [
             0.3,
             "#f1b6da"
            ],
            [
             0.4,
             "#fde0ef"
            ],
            [
             0.5,
             "#f7f7f7"
            ],
            [
             0.6,
             "#e6f5d0"
            ],
            [
             0.7,
             "#b8e186"
            ],
            [
             0.8,
             "#7fbc41"
            ],
            [
             0.9,
             "#4d9221"
            ],
            [
             1,
             "#276419"
            ]
           ],
           "sequential": [
            [
             0,
             "#0d0887"
            ],
            [
             0.1111111111111111,
             "#46039f"
            ],
            [
             0.2222222222222222,
             "#7201a8"
            ],
            [
             0.3333333333333333,
             "#9c179e"
            ],
            [
             0.4444444444444444,
             "#bd3786"
            ],
            [
             0.5555555555555556,
             "#d8576b"
            ],
            [
             0.6666666666666666,
             "#ed7953"
            ],
            [
             0.7777777777777778,
             "#fb9f3a"
            ],
            [
             0.8888888888888888,
             "#fdca26"
            ],
            [
             1,
             "#f0f921"
            ]
           ],
           "sequentialminus": [
            [
             0,
             "#0d0887"
            ],
            [
             0.1111111111111111,
             "#46039f"
            ],
            [
             0.2222222222222222,
             "#7201a8"
            ],
            [
             0.3333333333333333,
             "#9c179e"
            ],
            [
             0.4444444444444444,
             "#bd3786"
            ],
            [
             0.5555555555555556,
             "#d8576b"
            ],
            [
             0.6666666666666666,
             "#ed7953"
            ],
            [
             0.7777777777777778,
             "#fb9f3a"
            ],
            [
             0.8888888888888888,
             "#fdca26"
            ],
            [
             1,
             "#f0f921"
            ]
           ]
          },
          "colorway": [
           "#636efa",
           "#EF553B",
           "#00cc96",
           "#ab63fa",
           "#FFA15A",
           "#19d3f3",
           "#FF6692",
           "#B6E880",
           "#FF97FF",
           "#FECB52"
          ],
          "font": {
           "color": "#2a3f5f"
          },
          "geo": {
           "bgcolor": "white",
           "lakecolor": "white",
           "landcolor": "#E5ECF6",
           "showlakes": true,
           "showland": true,
           "subunitcolor": "white"
          },
          "hoverlabel": {
           "align": "left"
          },
          "hovermode": "closest",
          "mapbox": {
           "style": "light"
          },
          "paper_bgcolor": "white",
          "plot_bgcolor": "#E5ECF6",
          "polar": {
           "angularaxis": {
            "gridcolor": "white",
            "linecolor": "white",
            "ticks": ""
           },
           "bgcolor": "#E5ECF6",
           "radialaxis": {
            "gridcolor": "white",
            "linecolor": "white",
            "ticks": ""
           }
          },
          "scene": {
           "xaxis": {
            "backgroundcolor": "#E5ECF6",
            "gridcolor": "white",
            "gridwidth": 2,
            "linecolor": "white",
            "showbackground": true,
            "ticks": "",
            "zerolinecolor": "white"
           },
           "yaxis": {
            "backgroundcolor": "#E5ECF6",
            "gridcolor": "white",
            "gridwidth": 2,
            "linecolor": "white",
            "showbackground": true,
            "ticks": "",
            "zerolinecolor": "white"
           },
           "zaxis": {
            "backgroundcolor": "#E5ECF6",
            "gridcolor": "white",
            "gridwidth": 2,
            "linecolor": "white",
            "showbackground": true,
            "ticks": "",
            "zerolinecolor": "white"
           }
          },
          "shapedefaults": {
           "line": {
            "color": "#2a3f5f"
           }
          },
          "ternary": {
           "aaxis": {
            "gridcolor": "white",
            "linecolor": "white",
            "ticks": ""
           },
           "baxis": {
            "gridcolor": "white",
            "linecolor": "white",
            "ticks": ""
           },
           "bgcolor": "#E5ECF6",
           "caxis": {
            "gridcolor": "white",
            "linecolor": "white",
            "ticks": ""
           }
          },
          "title": {
           "x": 0.05
          },
          "xaxis": {
           "automargin": true,
           "gridcolor": "white",
           "linecolor": "white",
           "ticks": "",
           "title": {
            "standoff": 15
           },
           "zerolinecolor": "white",
           "zerolinewidth": 2
          },
          "yaxis": {
           "automargin": true,
           "gridcolor": "white",
           "linecolor": "white",
           "ticks": "",
           "title": {
            "standoff": 15
           },
           "zerolinecolor": "white",
           "zerolinewidth": 2
          }
         }
        },
        "title": {
         "text": "Relationship between sale price and number of rating"
        },
        "xaxis": {
         "anchor": "y",
         "autorange": true,
         "domain": [
          0,
          1
         ],
         "range": [
          -5975.262005214,
          103015.75574601571
         ],
         "title": {
          "text": "Number Of Ratings"
         },
         "type": "linear"
        },
        "yaxis": {
         "anchor": "x",
         "autorange": true,
         "domain": [
          0,
          1
         ],
         "range": [
          11531.3948090558,
          153687.7104874315
         ],
         "title": {
          "text": "Sale Price"
         },
         "type": "linear"
        }
       }
      },
      "image/png": "[encoded data removed]"
     },
     "metadata": {},
     "output_type": "display_data"
    }
   ],
   "source": [
    "figure = px.scatter(data_frame = data, x = \"Number Of Ratings\", \n",
    "                    y = \"Sale Price\", size = \"Discount Percentage\",trendline = \"ols\",\n",
    "                    title = \"Relationship between sale price and number of rating\")\n",
    "figure.show()"
   ]
  },
  {
   "cell_type": "code",
   "execution_count": 32,
   "id": "63bc9bc3-1418-4d07-9900-dde08ad9abdc",
   "metadata": {},
   "outputs": [
    {
     "data": {
      "application/vnd.plotly.v1+json": {
       "config": {
        "plotlyServerURL": "https://plot.ly"
       },
       "data": [
        {
         "hovertemplate": "Number Of Ratings=%{x}<br>Discount Percentage=%{y}<br>Sale Price=%{marker.size}<extra></extra>",
         "legendgroup": "",
         "marker": {
          "color": "#636efa",
          "size": {
           "_inputArray": {
            "0": 49900,
            "1": 84900,
            "2": 84900,
            "3": 77000,
            "4": 77000,
            "5": 49900,
            "6": 49900,
            "7": 77000,
            "8": 89900,
            "9": 41999,
            "10": 39999,
            "11": 41999,
            "12": 41999,
            "13": 41999,
            "14": 131900,
            "15": 117100,
            "16": 131900,
            "17": 117100,
            "18": 74999,
            "19": 117900,
            "20": 117100,
            "21": 117900,
            "22": 99900,
            "23": 44999,
            "24": 140900,
            "25": 130900,
            "26": 64900,
            "27": 120900,
            "28": 59900,
            "29": 75900,
            "30": 110900,
            "31": 130900,
            "32": 120900,
            "33": 64900,
            "34": 64900,
            "35": 75900,
            "36": 75900,
            "37": 120900,
            "38": 59900,
            "39": 120900,
            "40": 75900,
            "41": 140900,
            "42": 70900,
            "43": 70900,
            "44": 75900,
            "45": 59900,
            "46": 110900,
            "47": 120900,
            "48": 130900,
            "49": 130900,
            "50": 54999,
            "51": 54999,
            "52": 29999,
            "53": 34999,
            "54": 34999,
            "55": 34999,
            "56": 54999,
            "57": 29999,
            "58": 46999,
            "59": 46999,
            "60": 46999,
            "61": 46999,
            "bdata": "7MIAAKRLAQCkSwEAyCwBAMgsAQDswgAA7MIAAMgsAQAsXwEAD6QAAD+cAAAPpAAAD6QAAA+kAAA8AwIAbMkBADwDAgBsyQEA9yQBAIzMAQBsyQEAjMwBADyGAQDHrwAAZCYCAFT/AQCE/QAARNgBAPzpAAB8KAEANLEBAFT/AQBE2AEAhP0AAIT9AAB8KAEAfCgBAETYAQD86QAARNgBAHwoAQBkJgIA9BQBAPQUAQB8KAEA/OkAADSxAQBE2AEAVP8BAFT/AQDX1gAA19YAAC91AAC3iAAAt4gAALeIAADX1gAAL3UAAJe3AACXtwAAl7cAAJe3AAA=",
            "dtype": "i4",
            "shape": "62"
           },
           "bdata": "7MIAAKRLAQCkSwEAyCwBAMgsAQDswgAA7MIAAMgsAQAsXwEAD6QAAD+cAAAPpAAAD6QAAA+kAAA8AwIAbMkBADwDAgBsyQEA9yQBAIzMAQBsyQEAjMwBADyGAQDHrwAAZCYCAFT/AQCE/QAARNgBAPzpAAB8KAEANLEBAFT/AQBE2AEAhP0AAIT9AAB8KAEAfCgBAETYAQD86QAARNgBAHwoAQBkJgIA9BQBAPQUAQB8KAEA/OkAADSxAQBE2AEAVP8BAFT/AQDX1gAA19YAAC91AAC3iAAAt4gAALeIAADX1gAAL3UAAJe3AACXtwAAl7cAAJe3AAA=",
           "dtype": "i4"
          },
          "sizemode": "area",
          "sizeref": 352.25,
          "symbol": "circle"
         },
         "mode": "markers",
         "name": "",
         "orientation": "v",
         "showlegend": false,
         "type": "scatter",
         "x": {
          "_inputArray": {
           "0": 3431,
           "1": 3431,
           "2": 3431,
           "3": 11202,
           "4": 11202,
           "5": 3431,
           "6": 3431,
           "7": 11202,
           "8": 1454,
           "9": 79512,
           "10": 79512,
           "11": 79582,
           "12": 79512,
           "13": 79512,
           "14": 1078,
           "15": 1078,
           "16": 1078,
           "17": 1078,
           "18": 7088,
           "19": 7088,
           "20": 1078,
           "21": 7088,
           "22": 7081,
           "23": 95909,
           "24": 542,
           "25": 580,
           "26": 740,
           "27": 545,
           "28": 740,
           "29": 2101,
           "30": 545,
           "31": 580,
           "32": 580,
           "33": 730,
           "34": 730,
           "35": 2101,
           "36": 2101,
           "37": 580,
           "38": 740,
           "39": 580,
           "40": 2092,
           "41": 545,
           "42": 2101,
           "43": 2092,
           "44": 2101,
           "45": 740,
           "46": 545,
           "47": 580,
           "48": 580,
           "49": 580,
           "50": 43707,
           "51": 43707,
           "52": 95807,
           "53": 95909,
           "54": 95807,
           "55": 95909,
           "56": 43470,
           "57": 95909,
           "58": 43470,
           "59": 43470,
           "60": 43470,
           "61": 43470,
           "bdata": "Zw0AAGcNAABnDQAAwisAAMIrAABnDQAAZw0AAMIrAACuBQAAmDYBAJg2AQDeNgEAmDYBAJg2AQA2BAAANgQAADYEAAA2BAAAsBsAALAbAAA2BAAAsBsAAKkbAACldgEAHgIAAEQCAADkAgAAIQIAAOQCAAA1CAAAIQIAAEQCAABEAgAA2gIAANoCAAA1CAAANQgAAEQCAADkAgAARAIAACwIAAAhAgAANQgAACwIAAA1CAAA5AIAACECAABEAgAARAIAAEQCAAC7qgAAu6oAAD92AQCldgEAP3YBAKV2AQDOqQAApXYBAM6pAADOqQAAzqkAAM6pAAA=",
           "dtype": "i4",
           "shape": "62"
          },
          "bdata": "Zw0AAGcNAABnDQAAwisAAMIrAABnDQAAZw0AAMIrAACuBQAAmDYBAJg2AQDeNgEAmDYBAJg2AQA2BAAANgQAADYEAAA2BAAAsBsAALAbAAA2BAAAsBsAAKkbAACldgEAHgIAAEQCAADkAgAAIQIAAOQCAAA1CAAAIQIAAEQCAABEAgAA2gIAANoCAAA1CAAANQgAAEQCAADkAgAARAIAACwIAAAhAgAANQgAACwIAAA1CAAA5AIAACECAABEAgAARAIAAEQCAAC7qgAAu6oAAD92AQCldgEAP3YBAKV2AQDOqQAApXYBAM6pAADOqQAAzqkAAM6pAAA=",
          "dtype": "i4"
         },
         "xaxis": "x",
         "y": {
          "_inputArray": {
           "0": 0,
           "1": 0,
           "2": 0,
           "3": 0,
           "4": 0,
           "5": 0,
           "6": 0,
           "7": 0,
           "8": 0,
           "9": 20,
           "10": 16,
           "11": 20,
           "12": 20,
           "13": 20,
           "14": 0,
           "15": 0,
           "16": 0,
           "17": 0,
           "18": 29,
           "19": 15,
           "20": 0,
           "21": 15,
           "22": 17,
           "23": 18,
           "24": 6,
           "25": 6,
           "26": 13,
           "27": 6,
           "28": 14,
           "29": 10,
           "30": 7,
           "31": 6,
           "32": 6,
           "33": 13,
           "34": 13,
           "35": 10,
           "36": 10,
           "37": 6,
           "38": 14,
           "39": 6,
           "40": 10,
           "41": 6,
           "42": 11,
           "43": 11,
           "44": 10,
           "45": 14,
           "46": 7,
           "47": 6,
           "48": 6,
           "49": 6,
           "50": 8,
           "51": 8,
           "52": 24,
           "53": 22,
           "54": 22,
           "55": 22,
           "56": 8,
           "57": 24,
           "58": 14,
           "59": 14,
           "60": 14,
           "61": 14,
           "bdata": "AAAAAAAAAAAAFBAUFBQAAAAAHQ8ADxESBgYNBg4KBwYGDQ0KCgYOBgoGCwsKDgcGBgYICBgWFhYIGA4ODg4=",
           "dtype": "i1",
           "shape": "62"
          },
          "bdata": "AAAAAAAAAAAAFBAUFBQAAAAAHQ8ADxESBgYNBg4KBwYGDQ0KCgYOBgoGCwsKDgcGBgYICBgWFhYIGA4ODg4=",
          "dtype": "i1"
         },
         "yaxis": "y"
        },
        {
         "hovertemplate": "<b>OLS trendline</b><br>Discount Percentage = 0.000154292 * Number Of Ratings + 6.49233<br>R<sup>2</sup>=0.468988<br><br>Number Of Ratings=%{x}<br>Discount Percentage=%{y} <b>(trend)</b><extra></extra>",
         "legendgroup": "",
         "marker": {
          "color": "#636efa",
          "symbol": "circle"
         },
         "mode": "lines",
         "name": "",
         "showlegend": false,
         "type": "scatter",
         "x": {
          "_inputArray": {
           "0": 542,
           "1": 545,
           "2": 545,
           "3": 545,
           "4": 545,
           "5": 580,
           "6": 580,
           "7": 580,
           "8": 580,
           "9": 580,
           "10": 580,
           "11": 580,
           "12": 580,
           "13": 730,
           "14": 730,
           "15": 740,
           "16": 740,
           "17": 740,
           "18": 740,
           "19": 1078,
           "20": 1078,
           "21": 1078,
           "22": 1078,
           "23": 1078,
           "24": 1454,
           "25": 2092,
           "26": 2092,
           "27": 2101,
           "28": 2101,
           "29": 2101,
           "30": 2101,
           "31": 2101,
           "32": 3431,
           "33": 3431,
           "34": 3431,
           "35": 3431,
           "36": 3431,
           "37": 7081,
           "38": 7088,
           "39": 7088,
           "40": 7088,
           "41": 11202,
           "42": 11202,
           "43": 11202,
           "44": 43470,
           "45": 43470,
           "46": 43470,
           "47": 43470,
           "48": 43470,
           "49": 43707,
           "50": 43707,
           "51": 79512,
           "52": 79512,
           "53": 79512,
           "54": 79512,
           "55": 79582,
           "56": 95807,
           "57": 95807,
           "58": 95909,
           "59": 95909,
           "60": 95909,
           "61": 95909,
           "bdata": "HgIAACECAAAhAgAAIQIAACECAABEAgAARAIAAEQCAABEAgAARAIAAEQCAABEAgAARAIAANoCAADaAgAA5AIAAOQCAADkAgAA5AIAADYEAAA2BAAANgQAADYEAAA2BAAArgUAACwIAAAsCAAANQgAADUIAAA1CAAANQgAADUIAABnDQAAZw0AAGcNAABnDQAAZw0AAKkbAACwGwAAsBsAALAbAADCKwAAwisAAMIrAADOqQAAzqkAAM6pAADOqQAAzqkAALuqAAC7qgAAmDYBAJg2AQCYNgEAmDYBAN42AQA/dgEAP3YBAKV2AQCldgEApXYBAKV2AQA=",
           "dtype": "i4",
           "shape": "62"
          },
          "bdata": "HgIAACECAAAhAgAAIQIAACECAABEAgAARAIAAEQCAABEAgAARAIAAEQCAABEAgAARAIAANoCAADaAgAA5AIAAOQCAADkAgAA5AIAADYEAAA2BAAANgQAADYEAAA2BAAArgUAACwIAAAsCAAANQgAADUIAAA1CAAANQgAADUIAABnDQAAZw0AAGcNAABnDQAAZw0AAKkbAACwGwAAsBsAALAbAADCKwAAwisAAMIrAADOqQAAzqkAAM6pAADOqQAAzqkAALuqAAC7qgAAmDYBAJg2AQCYNgEAmDYBAN42AQA/dgEAP3YBAKV2AQCldgEApXYBAKV2AQA=",
          "dtype": "i4"
         },
         "xaxis": "x",
         "y": {
          "_inputArray": {
           "0": 6.575953470663331,
           "1": 6.576416346230308,
           "2": 6.576416346230308,
           "3": 6.576416346230308,
           "4": 6.576416346230308,
           "5": 6.581816561178368,
           "6": 6.581816561178368,
           "7": 6.581816561178368,
           "8": 6.581816561178368,
           "9": 6.581816561178368,
           "10": 6.581816561178368,
           "11": 6.581816561178368,
           "12": 6.581816561178368,
           "13": 6.604960339527197,
           "14": 6.604960339527197,
           "15": 6.6065032580837855,
           "16": 6.6065032580837855,
           "17": 6.6065032580837855,
           "18": 6.6065032580837855,
           "19": 6.658653905296481,
           "20": 6.658653905296481,
           "21": 6.658653905296481,
           "22": 6.658653905296481,
           "23": 6.658653905296481,
           "24": 6.716667643024212,
           "25": 6.815105846934564,
           "26": 6.815105846934564,
           "27": 6.816494473635494,
           "28": 6.816494473635494,
           "29": 6.816494473635494,
           "30": 6.816494473635494,
           "31": 6.816494473635494,
           "32": 7.021702641661778,
           "33": 7.021702641661778,
           "34": 7.021702641661778,
           "35": 7.021702641661778,
           "36": 7.021702641661778,
           "37": 7.584867914816619,
           "38": 7.585947957806231,
           "39": 7.585947957806231,
           "40": 7.585947957806231,
           "41": 8.220704651986782,
           "42": 8.220704651986782,
           "43": 8.220704651986782,
           "44": 13.199394250386886,
           "45": 13.199394250386886,
           "46": 13.199394250386886,
           "47": 13.199394250386886,
           "48": 13.199394250386886,
           "49": 13.235961420178036,
           "50": 13.235961420178036,
           "51": 18.760381312043528,
           "52": 18.760381312043528,
           "53": 18.760381312043528,
           "54": 18.760381312043528,
           "55": 18.77118174193965,
           "56": 21.27456710000466,
           "57": 21.27456710000466,
           "58": 21.29030486928186,
           "59": 21.29030486928186,
           "60": 21.29030486928186,
           "61": 21.29030486928186,
           "bdata": "GhEiv8ZNGkCFwS8WQE4aQIXBLxZAThpAhcEvFkBOGkCFwS8WQE4aQAwherjHUxpADCF6uMdTGkAMIXq4x1MaQAwherjHUxpADCF6uMdTGkAMIXq4x1MaQAwherjHUxpADCF6uMdTGkDhlSa5emsaQOGVJrl6axpAmoypMA9tGkCajKkwD20aQJqMqTAPbRpAmoypMA9tGkA2hlordqIaQDaGWit2ohpANoZaK3aiGkA2hlordqIaQDaGWit2ohpAw49jH97dGkAIc20bq0IbQAhzbRurQhtASISWIBdEG0BIhJYgF0QbQEiEliAXRBtASISWIBdEG0BIhJYgF0QbQFOyoDc5FhxAU7KgNzkWHEBTsqA3ORYcQFOyoDc5FhxAU7KgNzkWHEDnd1qd51YeQDW+z70CWB5ANb7PvQJYHkA1vs+9AlgeQHK3PDMAcSBAcrc8MwBxIEBytzwzAHEgQB/Y0AAXZipAH9jQABdmKkAf2NAAF2YqQB/Y0AAXZipAH9jQABdmKkCUkG3vz3gqQJSQbe/PeCpAbreDWajCMkBut4NZqMIyQG63g1mowjJAbreDWajCMkAy56gqbMUyQNwTiwdKRjVA3BOLB0pGNUBmb39rUUo1QGZvf2tRSjVAZm9/a1FKNUBmb39rUUo1QA==",
           "dtype": "f8",
           "shape": "62"
          },
          "bdata": "GhEiv8ZNGkCFwS8WQE4aQIXBLxZAThpAhcEvFkBOGkCFwS8WQE4aQAwherjHUxpADCF6uMdTGkAMIXq4x1MaQAwherjHUxpADCF6uMdTGkAMIXq4x1MaQAwherjHUxpADCF6uMdTGkDhlSa5emsaQOGVJrl6axpAmoypMA9tGkCajKkwD20aQJqMqTAPbRpAmoypMA9tGkA2hlordqIaQDaGWit2ohpANoZaK3aiGkA2hlordqIaQDaGWit2ohpAw49jH97dGkAIc20bq0IbQAhzbRurQhtASISWIBdEG0BIhJYgF0QbQEiEliAXRBtASISWIBdEG0BIhJYgF0QbQFOyoDc5FhxAU7KgNzkWHEBTsqA3ORYcQFOyoDc5FhxAU7KgNzkWHEDnd1qd51YeQDW+z70CWB5ANb7PvQJYHkA1vs+9AlgeQHK3PDMAcSBAcrc8MwBxIEBytzwzAHEgQB/Y0AAXZipAH9jQABdmKkAf2NAAF2YqQB/Y0AAXZipAH9jQABdmKkCUkG3vz3gqQJSQbe/PeCpAbreDWajCMkBut4NZqMIyQG63g1mowjJAbreDWajCMkAy56gqbMUyQNwTiwdKRjVA3BOLB0pGNUBmb39rUUo1QGZvf2tRSjVAZm9/a1FKNUBmb39rUUo1QA==",
          "dtype": "f8"
         },
         "yaxis": "y"
        }
       ],
       "layout": {
        "autosize": true,
        "legend": {
         "itemsizing": "constant",
         "tracegroupgap": 0
        },
        "template": {
         "data": {
          "bar": [
           {
            "error_x": {
             "color": "#2a3f5f"
            },
            "error_y": {
             "color": "#2a3f5f"
            },
            "marker": {
             "line": {
              "color": "#E5ECF6",
              "width": 0.5
             },
             "pattern": {
              "fillmode": "overlay",
              "size": 10,
              "solidity": 0.2
             }
            },
            "type": "bar"
           }
          ],
          "barpolar": [
           {
            "marker": {
             "line": {
              "color": "#E5ECF6",
              "width": 0.5
             },
             "pattern": {
              "fillmode": "overlay",
              "size": 10,
              "solidity": 0.2
             }
            },
            "type": "barpolar"
           }
          ],
          "carpet": [
           {
            "aaxis": {
             "endlinecolor": "#2a3f5f",
             "gridcolor": "white",
             "linecolor": "white",
             "minorgridcolor": "white",
             "startlinecolor": "#2a3f5f"
            },
            "baxis": {
             "endlinecolor": "#2a3f5f",
             "gridcolor": "white",
             "linecolor": "white",
             "minorgridcolor": "white",
             "startlinecolor": "#2a3f5f"
            },
            "type": "carpet"
           }
          ],
          "choropleth": [
           {
            "colorbar": {
             "outlinewidth": 0,
             "ticks": ""
            },
            "type": "choropleth"
           }
          ],
          "contour": [
           {
            "colorbar": {
             "outlinewidth": 0,
             "ticks": ""
            },
            "colorscale": [
             [
              0,
              "#0d0887"
             ],
             [
              0.1111111111111111,
              "#46039f"
             ],
             [
              0.2222222222222222,
              "#7201a8"
             ],
             [
              0.3333333333333333,
              "#9c179e"
             ],
             [
              0.4444444444444444,
              "#bd3786"
             ],
             [
              0.5555555555555556,
              "#d8576b"
             ],
             [
              0.6666666666666666,
              "#ed7953"
             ],
             [
              0.7777777777777778,
              "#fb9f3a"
             ],
             [
              0.8888888888888888,
              "#fdca26"
             ],
             [
              1,
              "#f0f921"
             ]
            ],
            "type": "contour"
           }
          ],
          "contourcarpet": [
           {
            "colorbar": {
             "outlinewidth": 0,
             "ticks": ""
            },
            "type": "contourcarpet"
           }
          ],
          "heatmap": [
           {
            "colorbar": {
             "outlinewidth": 0,
             "ticks": ""
            },
            "colorscale": [
             [
              0,
              "#0d0887"
             ],
             [
              0.1111111111111111,
              "#46039f"
             ],
             [
              0.2222222222222222,
              "#7201a8"
             ],
             [
              0.3333333333333333,
              "#9c179e"
             ],
             [
              0.4444444444444444,
              "#bd3786"
             ],
             [
              0.5555555555555556,
              "#d8576b"
             ],
             [
              0.6666666666666666,
              "#ed7953"
             ],
             [
              0.7777777777777778,
              "#fb9f3a"
             ],
             [
              0.8888888888888888,
              "#fdca26"
             ],
             [
              1,
              "#f0f921"
             ]
            ],
            "type": "heatmap"
           }
          ],
          "histogram": [
           {
            "marker": {
             "pattern": {
              "fillmode": "overlay",
              "size": 10,
              "solidity": 0.2
             }
            },
            "type": "histogram"
           }
          ],
          "histogram2d": [
           {
            "colorbar": {
             "outlinewidth": 0,
             "ticks": ""
            },
            "colorscale": [
             [
              0,
              "#0d0887"
             ],
             [
              0.1111111111111111,
              "#46039f"
             ],
             [
              0.2222222222222222,
              "#7201a8"
             ],
             [
              0.3333333333333333,
              "#9c179e"
             ],
             [
              0.4444444444444444,
              "#bd3786"
             ],
             [
              0.5555555555555556,
              "#d8576b"
             ],
             [
              0.6666666666666666,
              "#ed7953"
             ],
             [
              0.7777777777777778,
              "#fb9f3a"
             ],
             [
              0.8888888888888888,
              "#fdca26"
             ],
             [
              1,
              "#f0f921"
             ]
            ],
            "type": "histogram2d"
           }
          ],
          "histogram2dcontour": [
           {
            "colorbar": {
             "outlinewidth": 0,
             "ticks": ""
            },
            "colorscale": [
             [
              0,
              "#0d0887"
             ],
             [
              0.1111111111111111,
              "#46039f"
             ],
             [
              0.2222222222222222,
              "#7201a8"
             ],
             [
              0.3333333333333333,
              "#9c179e"
             ],
             [
              0.4444444444444444,
              "#bd3786"
             ],
             [
              0.5555555555555556,
              "#d8576b"
             ],
             [
              0.6666666666666666,
              "#ed7953"
             ],
             [
              0.7777777777777778,
              "#fb9f3a"
             ],
             [
              0.8888888888888888,
              "#fdca26"
             ],
             [
              1,
              "#f0f921"
             ]
            ],
            "type": "histogram2dcontour"
           }
          ],
          "mesh3d": [
           {
            "colorbar": {
             "outlinewidth": 0,
             "ticks": ""
            },
            "type": "mesh3d"
           }
          ],
          "parcoords": [
           {
            "line": {
             "colorbar": {
              "outlinewidth": 0,
              "ticks": ""
             }
            },
            "type": "parcoords"
           }
          ],
          "pie": [
           {
            "automargin": true,
            "type": "pie"
           }
          ],
          "scatter": [
           {
            "fillpattern": {
             "fillmode": "overlay",
             "size": 10,
             "solidity": 0.2
            },
            "type": "scatter"
           }
          ],
          "scatter3d": [
           {
            "line": {
             "colorbar": {
              "outlinewidth": 0,
              "ticks": ""
             }
            },
            "marker": {
             "colorbar": {
              "outlinewidth": 0,
              "ticks": ""
             }
            },
            "type": "scatter3d"
           }
          ],
          "scattercarpet": [
           {
            "marker": {
             "colorbar": {
              "outlinewidth": 0,
              "ticks": ""
             }
            },
            "type": "scattercarpet"
           }
          ],
          "scattergeo": [
           {
            "marker": {
             "colorbar": {
              "outlinewidth": 0,
              "ticks": ""
             }
            },
            "type": "scattergeo"
           }
          ],
          "scattergl": [
           {
            "marker": {
             "colorbar": {
              "outlinewidth": 0,
              "ticks": ""
             }
            },
            "type": "scattergl"
           }
          ],
          "scattermap": [
           {
            "marker": {
             "colorbar": {
              "outlinewidth": 0,
              "ticks": ""
             }
            },
            "type": "scattermap"
           }
          ],
          "scattermapbox": [
           {
            "marker": {
             "colorbar": {
              "outlinewidth": 0,
              "ticks": ""
             }
            },
            "type": "scattermapbox"
           }
          ],
          "scatterpolar": [
           {
            "marker": {
             "colorbar": {
              "outlinewidth": 0,
              "ticks": ""
             }
            },
            "type": "scatterpolar"
           }
          ],
          "scatterpolargl": [
           {
            "marker": {
             "colorbar": {
              "outlinewidth": 0,
              "ticks": ""
             }
            },
            "type": "scatterpolargl"
           }
          ],
          "scatterternary": [
           {
            "marker": {
             "colorbar": {
              "outlinewidth": 0,
              "ticks": ""
             }
            },
            "type": "scatterternary"
           }
          ],
          "surface": [
           {
            "colorbar": {
             "outlinewidth": 0,
             "ticks": ""
            },
            "colorscale": [
             [
              0,
              "#0d0887"
             ],
             [
              0.1111111111111111,
              "#46039f"
             ],
             [
              0.2222222222222222,
              "#7201a8"
             ],
             [
              0.3333333333333333,
              "#9c179e"
             ],
             [
              0.4444444444444444,
              "#bd3786"
             ],
             [
              0.5555555555555556,
              "#d8576b"
             ],
             [
              0.6666666666666666,
              "#ed7953"
             ],
             [
              0.7777777777777778,
              "#fb9f3a"
             ],
             [
              0.8888888888888888,
              "#fdca26"
             ],
             [
              1,
              "#f0f921"
             ]
            ],
            "type": "surface"
           }
          ],
          "table": [
           {
            "cells": {
             "fill": {
              "color": "#EBF0F8"
             },
             "line": {
              "color": "white"
             }
            },
            "header": {
             "fill": {
              "color": "#C8D4E3"
             },
             "line": {
              "color": "white"
             }
            },
            "type": "table"
           }
          ]
         },
         "layout": {
          "annotationdefaults": {
           "arrowcolor": "#2a3f5f",
           "arrowhead": 0,
           "arrowwidth": 1
          },
          "autotypenumbers": "strict",
          "coloraxis": {
           "colorbar": {
            "outlinewidth": 0,
            "ticks": ""
           }
          },
          "colorscale": {
           "diverging": [
            [
             0,
             "#8e0152"
            ],
            [
             0.1,
             "#c51b7d"
            ],
            [
             0.2,
             "#de77ae"
            ],
            [
             0.3,
             "#f1b6da"
            ],
            [
             0.4,
             "#fde0ef"
            ],
            [
             0.5,
             "#f7f7f7"
            ],
            [
             0.6,
             "#e6f5d0"
            ],
            [
             0.7,
             "#b8e186"
            ],
            [
             0.8,
             "#7fbc41"
            ],
            [
             0.9,
             "#4d9221"
            ],
            [
             1,
             "#276419"
            ]
           ],
           "sequential": [
            [
             0,
             "#0d0887"
            ],
            [
             0.1111111111111111,
             "#46039f"
            ],
            [
             0.2222222222222222,
             "#7201a8"
            ],
            [
             0.3333333333333333,
             "#9c179e"
            ],
            [
             0.4444444444444444,
             "#bd3786"
            ],
            [
             0.5555555555555556,
             "#d8576b"
            ],
            [
             0.6666666666666666,
             "#ed7953"
            ],
            [
             0.7777777777777778,
             "#fb9f3a"
            ],
            [
             0.8888888888888888,
             "#fdca26"
            ],
            [
             1,
             "#f0f921"
            ]
           ],
           "sequentialminus": [
            [
             0,
             "#0d0887"
            ],
            [
             0.1111111111111111,
             "#46039f"
            ],
            [
             0.2222222222222222,
             "#7201a8"
            ],
            [
             0.3333333333333333,
             "#9c179e"
            ],
            [
             0.4444444444444444,
             "#bd3786"
            ],
            [
             0.5555555555555556,
             "#d8576b"
            ],
            [
             0.6666666666666666,
             "#ed7953"
            ],
            [
             0.7777777777777778,
             "#fb9f3a"
            ],
            [
             0.8888888888888888,
             "#fdca26"
            ],
            [
             1,
             "#f0f921"
            ]
           ]
          },
          "colorway": [
           "#636efa",
           "#EF553B",
           "#00cc96",
           "#ab63fa",
           "#FFA15A",
           "#19d3f3",
           "#FF6692",
           "#B6E880",
           "#FF97FF",
           "#FECB52"
          ],
          "font": {
           "color": "#2a3f5f"
          },
          "geo": {
           "bgcolor": "white",
           "lakecolor": "white",
           "landcolor": "#E5ECF6",
           "showlakes": true,
           "showland": true,
           "subunitcolor": "white"
          },
          "hoverlabel": {
           "align": "left"
          },
          "hovermode": "closest",
          "mapbox": {
           "style": "light"
          },
          "paper_bgcolor": "white",
          "plot_bgcolor": "#E5ECF6",
          "polar": {
           "angularaxis": {
            "gridcolor": "white",
            "linecolor": "white",
            "ticks": ""
           },
           "bgcolor": "#E5ECF6",
           "radialaxis": {
            "gridcolor": "white",
            "linecolor": "white",
            "ticks": ""
           }
          },
          "scene": {
           "xaxis": {
            "backgroundcolor": "#E5ECF6",
            "gridcolor": "white",
            "gridwidth": 2,
            "linecolor": "white",
            "showbackground": true,
            "ticks": "",
            "zerolinecolor": "white"
           },
           "yaxis": {
            "backgroundcolor": "#E5ECF6",
            "gridcolor": "white",
            "gridwidth": 2,
            "linecolor": "white",
            "showbackground": true,
            "ticks": "",
            "zerolinecolor": "white"
           },
           "zaxis": {
            "backgroundcolor": "#E5ECF6",
            "gridcolor": "white",
            "gridwidth": 2,
            "linecolor": "white",
            "showbackground": true,
            "ticks": "",
            "zerolinecolor": "white"
           }
          },
          "shapedefaults": {
           "line": {
            "color": "#2a3f5f"
           }
          },
          "ternary": {
           "aaxis": {
            "gridcolor": "white",
            "linecolor": "white",
            "ticks": ""
           },
           "baxis": {
            "gridcolor": "white",
            "linecolor": "white",
            "ticks": ""
           },
           "bgcolor": "#E5ECF6",
           "caxis": {
            "gridcolor": "white",
            "linecolor": "white",
            "ticks": ""
           }
          },
          "title": {
           "x": 0.05
          },
          "xaxis": {
           "automargin": true,
           "gridcolor": "white",
           "linecolor": "white",
           "ticks": "",
           "title": {
            "standoff": 15
           },
           "zerolinecolor": "white",
           "zerolinewidth": 2
          },
          "yaxis": {
           "automargin": true,
           "gridcolor": "white",
           "linecolor": "white",
           "ticks": "",
           "title": {
            "standoff": 15
           },
           "zerolinecolor": "white",
           "zerolinewidth": 2
          }
         }
        },
        "title": {
         "text": "Relationship between discount percentage and number of rating"
        },
        "xaxis": {
         "anchor": "y",
         "autorange": true,
         "domain": [
          0,
          1
         ],
         "range": [
          -6738.857285216338,
          102396.61219585629
         ],
         "title": {
          "text": "Number Of Ratings"
         },
         "type": "linear"
        },
        "yaxis": {
         "anchor": "x",
         "autorange": true,
         "domain": [
          0,
          1
         ],
         "range": [
          -5.2131668449815605,
          33.40593648416593
         ],
         "title": {
          "text": "Discount Percentage"
         },
         "type": "linear"
        }
       }
      },
      "image/png": "[encoded data removed]"
     },
     "metadata": {},
     "output_type": "display_data"
    }
   ],
   "source": [
    "figure = px.scatter(data_frame = data, x = \"Number Of Ratings\",\n",
    "                    y = \"Discount Percentage\", size = \"Sale Price\", trendline =\"ols\",\n",
    "                    title = \"Relationship between discount percentage and number of rating\") \n",
    "figure.show()"
   ]
  }
 ],
 "metadata": {
  "kernelspec": {
   "display_name": "Python 3 (ipykernel)",
   "language": "python",
   "name": "python3"
  },
  "language_info": {
   "codemirror_mode": {
    "name": "ipython",
    "version": 3
   },
   "file_extension": ".py",
   "mimetype": "text/x-python",
   "name": "python",
   "nbconvert_exporter": "python",
   "pygments_lexer": "ipython3",
   "version": "3.11.5"
  }
 },
 "nbformat": 4,
 "nbformat_minor": 5
}
